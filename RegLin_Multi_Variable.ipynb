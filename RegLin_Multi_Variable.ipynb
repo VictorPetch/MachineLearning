{
  "nbformat": 4,
  "nbformat_minor": 0,
  "metadata": {
    "colab": {
      "name": "RegLin_Multi_Variable.ipynb",
      "version": "0.3.2",
      "provenance": [],
      "include_colab_link": true
    },
    "kernelspec": {
      "name": "python3",
      "display_name": "Python 3"
    }
  },
  "cells": [
    {
      "cell_type": "markdown",
      "metadata": {
        "id": "view-in-github",
        "colab_type": "text"
      },
      "source": [
        "[View in Colaboratory](https://colab.research.google.com/github/VictorPetch/MachineLearning/blob/master/RegLin_Multi_Variable.ipynb)"
      ]
    },
    {
      "metadata": {
        "id": "8cAga3RWg8_V",
        "colab_type": "code",
        "colab": {
          "base_uri": "https://localhost:8080/",
          "height": 34
        },
        "outputId": "fb9e6862-7971-4729-a39a-2d073cd11af1"
      },
      "cell_type": "code",
      "source": [
        "import os\n",
        "import tarfile\n",
        "from six.moves import urllib\n",
        "\n",
        "FILE_TO_DOWNLOAD =  \"50_Startups.csv\"\n",
        "DOWNLOAD_ROOT = \"https://github.com/ect-info/ml/raw/master/\"\n",
        "DATA_PATH = \"dados/\"\n",
        "DATA_URL = DOWNLOAD_ROOT + DATA_PATH + FILE_TO_DOWNLOAD\n",
        "\n",
        "def fetch_data(data_url=DATA_URL, data_path=DATA_PATH, file_to_download=FILE_TO_DOWNLOAD):\n",
        "  if not os.path.isdir(data_path):\n",
        "    os.makedirs(data_path)\n",
        "  urllib.request.urlretrieve(data_url, data_path+file_to_download)\n",
        "  \n",
        "  \n",
        "fetch_data()\n",
        "\n",
        "# observando se o diretório datasets foi criado com sucesso \n",
        "!ls dados"
      ],
      "execution_count": 1,
      "outputs": [
        {
          "output_type": "stream",
          "text": [
            "50_Startups.csv  Salary_Data.csv\r\n"
          ],
          "name": "stdout"
        }
      ]
    },
    {
      "metadata": {
        "id": "1Tf97FnLkKZz",
        "colab_type": "code",
        "colab": {
          "base_uri": "https://localhost:8080/",
          "height": 204
        },
        "outputId": "4b23a0dd-aad1-4499-d7a3-7f3633cfe574"
      },
      "cell_type": "code",
      "source": [
        "import pandas as pd\n",
        "\n",
        "def load_data(data_path=DATA_PATH, file_to_download=FILE_TO_DOWNLOAD):\n",
        "  csv_path = os.path.join(data_path,file_to_download)\n",
        "  return pd.read_csv(csv_path)\n",
        "\n",
        "my_data_set = load_data()\n",
        "\n",
        "my_data_set.head()\n"
      ],
      "execution_count": 8,
      "outputs": [
        {
          "output_type": "execute_result",
          "data": {
            "text/html": [
              "<div>\n",
              "<style scoped>\n",
              "    .dataframe tbody tr th:only-of-type {\n",
              "        vertical-align: middle;\n",
              "    }\n",
              "\n",
              "    .dataframe tbody tr th {\n",
              "        vertical-align: top;\n",
              "    }\n",
              "\n",
              "    .dataframe thead th {\n",
              "        text-align: right;\n",
              "    }\n",
              "</style>\n",
              "<table border=\"1\" class=\"dataframe\">\n",
              "  <thead>\n",
              "    <tr style=\"text-align: right;\">\n",
              "      <th></th>\n",
              "      <th>R&amp;D Spend</th>\n",
              "      <th>Administration</th>\n",
              "      <th>Marketing Spend</th>\n",
              "      <th>State</th>\n",
              "      <th>Profit</th>\n",
              "    </tr>\n",
              "  </thead>\n",
              "  <tbody>\n",
              "    <tr>\n",
              "      <th>0</th>\n",
              "      <td>165349.20</td>\n",
              "      <td>136897.80</td>\n",
              "      <td>471784.10</td>\n",
              "      <td>New York</td>\n",
              "      <td>192261.83</td>\n",
              "    </tr>\n",
              "    <tr>\n",
              "      <th>1</th>\n",
              "      <td>162597.70</td>\n",
              "      <td>151377.59</td>\n",
              "      <td>443898.53</td>\n",
              "      <td>California</td>\n",
              "      <td>191792.06</td>\n",
              "    </tr>\n",
              "    <tr>\n",
              "      <th>2</th>\n",
              "      <td>153441.51</td>\n",
              "      <td>101145.55</td>\n",
              "      <td>407934.54</td>\n",
              "      <td>Florida</td>\n",
              "      <td>191050.39</td>\n",
              "    </tr>\n",
              "    <tr>\n",
              "      <th>3</th>\n",
              "      <td>144372.41</td>\n",
              "      <td>118671.85</td>\n",
              "      <td>383199.62</td>\n",
              "      <td>New York</td>\n",
              "      <td>182901.99</td>\n",
              "    </tr>\n",
              "    <tr>\n",
              "      <th>4</th>\n",
              "      <td>142107.34</td>\n",
              "      <td>91391.77</td>\n",
              "      <td>366168.42</td>\n",
              "      <td>Florida</td>\n",
              "      <td>166187.94</td>\n",
              "    </tr>\n",
              "  </tbody>\n",
              "</table>\n",
              "</div>"
            ],
            "text/plain": [
              "   R&D Spend  Administration  Marketing Spend       State     Profit\n",
              "0  165349.20       136897.80        471784.10    New York  192261.83\n",
              "1  162597.70       151377.59        443898.53  California  191792.06\n",
              "2  153441.51       101145.55        407934.54     Florida  191050.39\n",
              "3  144372.41       118671.85        383199.62    New York  182901.99\n",
              "4  142107.34        91391.77        366168.42     Florida  166187.94"
            ]
          },
          "metadata": {
            "tags": []
          },
          "execution_count": 8
        }
      ]
    },
    {
      "metadata": {
        "id": "xHM2gRdofrq8",
        "colab_type": "code",
        "colab": {}
      },
      "cell_type": "code",
      "source": [
        ""
      ],
      "execution_count": 0,
      "outputs": []
    },
    {
      "metadata": {
        "id": "bhwciaHxPmVd",
        "colab_type": "code",
        "colab": {
          "base_uri": "https://localhost:8080/",
          "height": 297
        },
        "outputId": "78e9cbb5-bdd8-4684-f3e7-ca23647d73f7"
      },
      "cell_type": "code",
      "source": [
        "my_data_set.describe()"
      ],
      "execution_count": 3,
      "outputs": [
        {
          "output_type": "execute_result",
          "data": {
            "text/html": [
              "<div>\n",
              "<style scoped>\n",
              "    .dataframe tbody tr th:only-of-type {\n",
              "        vertical-align: middle;\n",
              "    }\n",
              "\n",
              "    .dataframe tbody tr th {\n",
              "        vertical-align: top;\n",
              "    }\n",
              "\n",
              "    .dataframe thead th {\n",
              "        text-align: right;\n",
              "    }\n",
              "</style>\n",
              "<table border=\"1\" class=\"dataframe\">\n",
              "  <thead>\n",
              "    <tr style=\"text-align: right;\">\n",
              "      <th></th>\n",
              "      <th>R&amp;D Spend</th>\n",
              "      <th>Administration</th>\n",
              "      <th>Marketing Spend</th>\n",
              "      <th>Profit</th>\n",
              "    </tr>\n",
              "  </thead>\n",
              "  <tbody>\n",
              "    <tr>\n",
              "      <th>count</th>\n",
              "      <td>50.000000</td>\n",
              "      <td>50.000000</td>\n",
              "      <td>50.000000</td>\n",
              "      <td>50.000000</td>\n",
              "    </tr>\n",
              "    <tr>\n",
              "      <th>mean</th>\n",
              "      <td>73721.615600</td>\n",
              "      <td>121344.639600</td>\n",
              "      <td>211025.097800</td>\n",
              "      <td>112012.639200</td>\n",
              "    </tr>\n",
              "    <tr>\n",
              "      <th>std</th>\n",
              "      <td>45902.256482</td>\n",
              "      <td>28017.802755</td>\n",
              "      <td>122290.310726</td>\n",
              "      <td>40306.180338</td>\n",
              "    </tr>\n",
              "    <tr>\n",
              "      <th>min</th>\n",
              "      <td>0.000000</td>\n",
              "      <td>51283.140000</td>\n",
              "      <td>0.000000</td>\n",
              "      <td>14681.400000</td>\n",
              "    </tr>\n",
              "    <tr>\n",
              "      <th>25%</th>\n",
              "      <td>39936.370000</td>\n",
              "      <td>103730.875000</td>\n",
              "      <td>129300.132500</td>\n",
              "      <td>90138.902500</td>\n",
              "    </tr>\n",
              "    <tr>\n",
              "      <th>50%</th>\n",
              "      <td>73051.080000</td>\n",
              "      <td>122699.795000</td>\n",
              "      <td>212716.240000</td>\n",
              "      <td>107978.190000</td>\n",
              "    </tr>\n",
              "    <tr>\n",
              "      <th>75%</th>\n",
              "      <td>101602.800000</td>\n",
              "      <td>144842.180000</td>\n",
              "      <td>299469.085000</td>\n",
              "      <td>139765.977500</td>\n",
              "    </tr>\n",
              "    <tr>\n",
              "      <th>max</th>\n",
              "      <td>165349.200000</td>\n",
              "      <td>182645.560000</td>\n",
              "      <td>471784.100000</td>\n",
              "      <td>192261.830000</td>\n",
              "    </tr>\n",
              "  </tbody>\n",
              "</table>\n",
              "</div>"
            ],
            "text/plain": [
              "           R&D Spend  Administration  Marketing Spend         Profit\n",
              "count      50.000000       50.000000        50.000000      50.000000\n",
              "mean    73721.615600   121344.639600    211025.097800  112012.639200\n",
              "std     45902.256482    28017.802755    122290.310726   40306.180338\n",
              "min         0.000000    51283.140000         0.000000   14681.400000\n",
              "25%     39936.370000   103730.875000    129300.132500   90138.902500\n",
              "50%     73051.080000   122699.795000    212716.240000  107978.190000\n",
              "75%    101602.800000   144842.180000    299469.085000  139765.977500\n",
              "max    165349.200000   182645.560000    471784.100000  192261.830000"
            ]
          },
          "metadata": {
            "tags": []
          },
          "execution_count": 3
        }
      ]
    },
    {
      "metadata": {
        "id": "HkP-BIb0SzL6",
        "colab_type": "code",
        "colab": {}
      },
      "cell_type": "code",
      "source": [
        "# Misturando os dados \n",
        "\n",
        "from sklearn.utils import shuffle\n",
        "\n",
        "shuffle(my_data_set)\n",
        "\n",
        "# Separando os dados para as variáveis independentes e para variável dependete \n",
        "\n",
        "X = my_data_set.iloc[:,:-1].values # pega todas as colunas e exclui a última\n",
        "y = my_data_set.iloc[:, 4].values # pega só quinta coluna \n",
        "\n",
        "X = X[:,[0,1,2]] # escolhendo colunas específicas de X\n",
        "\n",
        "\n",
        "# Dividindo entre arquivos de treinamento e teste \n",
        "# Split the data into training/testing sets\n",
        "X_train = X[:-25]\n",
        "X_test = X[-25:]\n",
        "\n",
        "# Split the targets into training/testing sets\n",
        "y_train = y[:-25]\n",
        "y_test = y[-25:]"
      ],
      "execution_count": 0,
      "outputs": []
    },
    {
      "metadata": {
        "id": "Fb90ydDByNXk",
        "colab_type": "code",
        "colab": {
          "base_uri": "https://localhost:8080/",
          "height": 119
        },
        "outputId": "a6fc89ea-481d-4287-c4a8-98884f55872c"
      },
      "cell_type": "code",
      "source": [
        "print(X[0:6,:])"
      ],
      "execution_count": 19,
      "outputs": [
        {
          "output_type": "stream",
          "text": [
            "[[165349.2 136897.8 471784.1]\n",
            " [162597.7 151377.59 443898.53]\n",
            " [153441.51 101145.55 407934.54]\n",
            " [144372.41 118671.85 383199.62]\n",
            " [142107.34 91391.77 366168.42]\n",
            " [131876.9 99814.71 362861.36]]\n"
          ],
          "name": "stdout"
        }
      ]
    },
    {
      "metadata": {
        "id": "gbGJcpXhV8k3",
        "colab_type": "code",
        "colab": {
          "base_uri": "https://localhost:8080/",
          "height": 85
        },
        "outputId": "c7139a27-c669-45dd-db19-506a5e4bee8d"
      },
      "cell_type": "code",
      "source": [
        "# Preparando para a regressão \n",
        "import matplotlib.pyplot as plt\n",
        "import numpy as np\n",
        "from sklearn import datasets, linear_model\n",
        "from sklearn.metrics import mean_squared_error, r2_score\n",
        "\n",
        "# Create linear regression object\n",
        "regr = linear_model.LinearRegression()\n",
        "\n",
        "# Train the model using the training sets\n",
        "regr.fit(X_train, y_train)\n",
        "\n",
        "# Make predictions using the testing set\n",
        "y_pred = regr.predict(X_test)\n",
        "\n",
        "# The coefficients\n",
        "print('Coefficients: \\n', regr.coef_)\n",
        "# The mean squared error\n",
        "print(\"Mean squared error: %.2f\"\n",
        "      % mean_squared_error(y_test, y_pred))\n",
        "# Explained variance score: 1 is perfect prediction\n",
        "print('Variance score: %.2f' % r2_score(y_test, y_pred))"
      ],
      "execution_count": 20,
      "outputs": [
        {
          "output_type": "stream",
          "text": [
            "Coefficients: \n",
            " [ 0.81033613 -0.09107026  0.01997559]\n",
            "Mean squared error: 105054446.02\n",
            "Variance score: 0.82\n"
          ],
          "name": "stdout"
        }
      ]
    },
    {
      "metadata": {
        "id": "uwh0wasxW2x-",
        "colab_type": "code",
        "colab": {
          "base_uri": "https://localhost:8080/",
          "height": 1088
        },
        "outputId": "ec2f2297-6d26-44e9-c309-d493cb936e94"
      },
      "cell_type": "code",
      "source": [
        "print(\"X_train\") \n",
        "print(X_train)\n",
        "print(\"X_test\") \n",
        "print(X_test)\n",
        "print(y_pred)\n",
        "print(y_test)"
      ],
      "execution_count": 21,
      "outputs": [
        {
          "output_type": "stream",
          "text": [
            "X_train\n",
            "[[165349.2 136897.8 471784.1]\n",
            " [162597.7 151377.59 443898.53]\n",
            " [153441.51 101145.55 407934.54]\n",
            " [144372.41 118671.85 383199.62]\n",
            " [142107.34 91391.77 366168.42]\n",
            " [131876.9 99814.71 362861.36]\n",
            " [134615.46 147198.87 127716.82]\n",
            " [130298.13 145530.06 323876.68]\n",
            " [120542.52 148718.95 311613.29]\n",
            " [123334.88 108679.17 304981.62]\n",
            " [101913.08 110594.11 229160.95]\n",
            " [100671.96 91790.61 249744.55]\n",
            " [93863.75 127320.38 249839.44]\n",
            " [91992.39 135495.07 252664.93]\n",
            " [119943.24 156547.42 256512.92]\n",
            " [114523.61 122616.84 261776.23]\n",
            " [78013.11 121597.55 264346.06]\n",
            " [94657.16 145077.58 282574.31]\n",
            " [91749.16 114175.79 294919.57]\n",
            " [86419.7 153514.11 0.0]\n",
            " [76253.86 113867.3 298664.47]\n",
            " [78389.47 153773.43 299737.29]\n",
            " [73994.56 122782.75 303319.26]\n",
            " [67532.53 105751.03 304768.73]\n",
            " [77044.01 99281.34 140574.81]]\n",
            "X_test\n",
            "[[64664.71 139553.16 137962.62]\n",
            " [75328.87 144135.98 134050.07]\n",
            " [72107.6 127864.55 353183.81]\n",
            " [66051.52 182645.56 118148.2]\n",
            " [65605.48 153032.06 107138.38]\n",
            " [61994.48 115641.28 91131.24]\n",
            " [61136.38 152701.92 88218.23]\n",
            " [63408.86 129219.61 46085.25]\n",
            " [55493.95 103057.49 214634.81]\n",
            " [46426.07 157693.92 210797.67]\n",
            " [46014.02 85047.44 205517.64]\n",
            " [28663.76 127056.21 201126.82]\n",
            " [44069.95 51283.14 197029.42]\n",
            " [20229.59 65947.93 185265.1]\n",
            " [38558.51 82982.09 174999.3]\n",
            " [28754.33 118546.05 172795.67]\n",
            " [27892.92 84710.77 164470.71]\n",
            " [23640.93 96189.63 148001.11]\n",
            " [15505.73 127382.3 35534.17]\n",
            " [22177.74 154806.14 28334.72]\n",
            " [1000.23 124153.04 1903.93]\n",
            " [1315.46 115816.21 297114.46]\n",
            " [0.0 135426.92 0.0]\n",
            " [542.05 51743.15 0.0]\n",
            " [0.0 116983.8 45173.06]]\n",
            "[101989.69783857 110135.73789061 113384.5945728   98793.23949996\n",
            " 100908.77862074 101068.09080194  96939.43028449 100077.81197434\n",
            "  99413.5416413   87013.10803709  93189.67093728  75216.66974903\n",
            "  94519.68708737  73630.45669375  86726.67206497  75499.15303081\n",
            "  77716.21307444  72896.29932347  61216.73537064  63981.99673682\n",
            "  49084.71045496  55996.39324289  47209.44068479  55269.78581281\n",
            "  49791.41869801]\n",
            "[107404.34 105733.54 105008.31 103282.38 101004.64  99937.59  97483.56\n",
            "  97427.84  96778.92  96712.8   96479.51  90708.19  89949.14  81229.06\n",
            "  81005.76  78239.91  77798.83  71498.49  69758.98  65200.33  64926.08\n",
            "  49490.75  42559.73  35673.41  14681.4 ]\n"
          ],
          "name": "stdout"
        }
      ]
    },
    {
      "metadata": {
        "id": "W406kOmN2GGO",
        "colab_type": "text"
      },
      "cell_type": "markdown",
      "source": [
        "Shuffle ajuda na hora de preparar os dados, mas atrapalha na hora de mostrá-los"
      ]
    },
    {
      "metadata": {
        "id": "6GBGXbEZftEm",
        "colab_type": "code",
        "colab": {
          "base_uri": "https://localhost:8080/",
          "height": 330
        },
        "outputId": "95f1042d-21bd-4034-92e1-592df453dbb5"
      },
      "cell_type": "code",
      "source": [
        "# Plot outputs\n",
        "plt.scatter(X_test[:,1], y_test,  color='black')\n",
        "plt.plot(X_test[:,1], y_pred, color='blue', linewidth=3)\n",
        "\n",
        "plt.xticks(())\n",
        "plt.yticks(())\n",
        "\n",
        "plt.show()"
      ],
      "execution_count": 22,
      "outputs": [
        {
          "output_type": "display_data",
          "data": {
            "image/png": "[encoded data removed]",
            "text/plain": [
              "<matplotlib.figure.Figure at 0x7f2c29acf940>"
            ]
          },
          "metadata": {
            "tags": []
          }
        }
      ]
    },
    {
      "metadata": {
        "id": "2kUT3hbIkNpN",
        "colab_type": "code",
        "colab": {}
      },
      "cell_type": "code",
      "source": [
        ""
      ],
      "execution_count": 0,
      "outputs": []
    }
  ]
}
{
  "nbformat": 4,
  "nbformat_minor": 0,
  "metadata": {
    "colab": {
      "name": "Perceptron.ipynb",
      "version": "0.3.2",
      "provenance": [],
      "collapsed_sections": [],
      "include_colab_link": true
    },
    "kernelspec": {
      "name": "python3",
      "display_name": "Python 3"
    }
  },
  "cells": [
    {
      "cell_type": "markdown",
      "metadata": {
        "id": "view-in-github",
        "colab_type": "text"
      },
      "source": [
        "[View in Colaboratory](https://colab.research.google.com/github/VictorPetch/MachineLearning/blob/master/Perceptron.ipynb)"
      ]
    },
    {
      "metadata": {
        "id": "cH225itbKleD",
        "colab_type": "code",
        "colab": {
          "base_uri": "https://localhost:8080/",
          "height": 35
        },
        "outputId": "862d00b5-c820-4bf5-c52a-22f930607aa9"
      },
      "cell_type": "code",
      "source": [
        "u = y = 2\n",
        "def Signal(u):\n",
        "  if u >=0:\n",
        "    return 1\n",
        "  else:\n",
        "    return -1\n",
        "\n",
        "y = Signal(-1)\n",
        "print(y)"
      ],
      "execution_count": 49,
      "outputs": [
        {
          "output_type": "stream",
          "text": [
            "-1\n"
          ],
          "name": "stdout"
        }
      ]
    },
    {
      "metadata": {
        "id": "6UcdPZWZae1Z",
        "colab_type": "text"
      },
      "cell_type": "markdown",
      "source": [
        "Teste  Tipler Hibbeler"
      ]
    },
    {
      "metadata": {
        "id": "y52JXMCVai0Q",
        "colab_type": "code",
        "colab": {
          "base_uri": "https://localhost:8080/",
          "height": 119
        },
        "outputId": "f84fb3df-dbf8-4634-c74e-e896f821b4ed"
      },
      "cell_type": "code",
      "source": [
        "import numpy as np\n",
        "\n",
        "#x =np.matrix('0 0 1; 1 1 0')\n",
        "x = [[0,0,1],[1,1,0]]\n",
        "d = [-1,1]\n",
        "\n",
        "#print(len(x))\n",
        "w = [0.4, -0.6, 0.6]\n",
        "\n",
        "teta = 0.5\n",
        "\n",
        "#Start Training\n",
        "\n",
        "for i in range(len(x)):\n",
        "  print(\"i:\", i,d[i])\n",
        "  m = np.multiply(x[i],w)\n",
        "  u = np.sum(m) - 1*teta\n",
        "  #print(u)\n",
        "\n",
        "  if u >= 0:\n",
        "    y = 1\n",
        "  else:\n",
        "    y = -1\n",
        "  for j in range(len(w)):\n",
        "    w[j] = w[j] + 0.4*x[i][j]*(d[i] - y)\n",
        "  \n",
        "  e = d[i] - y\n",
        "  teta = teta + 0.4*(-1)*e  \n",
        "\n",
        "  print(w,teta,e)\n",
        "  print(\"u:\",u)"
      ],
      "execution_count": 2,
      "outputs": [
        {
          "output_type": "stream",
          "text": [
            "i: 0 -1\n",
            "[0.4, -0.6, -0.20000000000000007] 1.3 -2\n",
            "u: 0.09999999999999998\n",
            "i: 1 1\n",
            "[1.2000000000000002, 0.20000000000000007, -0.20000000000000007] 0.5 2\n",
            "u: -1.5\n"
          ],
          "name": "stdout"
        }
      ]
    },
    {
      "metadata": {
        "id": "h55natZqWKN_",
        "colab_type": "code",
        "colab": {
          "base_uri": "https://localhost:8080/",
          "height": 1908
        },
        "outputId": "35627da7-a56c-4adc-cfb0-46f83baa6ffe"
      },
      "cell_type": "code",
      "source": [
        "import numpy as np\n",
        "X = [ [1,1,1],[2,2,2] ]\n",
        "W = [0.4,-0.6,0.6]\n",
        "d = [-1,1]\n",
        "limiar = 0.5\n",
        "L_rate = 0.4\n",
        "def Signal(u):\n",
        "  if u >=0:\n",
        "    return 1\n",
        "  else:\n",
        "    return -1  \n",
        "\n",
        "def Perceptron(X,W,limiar,L_rate,d):\n",
        "  for j in range(4):\n",
        "    for i in range(len(X)):\n",
        "      print(\"Treino\", i,\"\\n\",\"input:\", X[i],\"\\n\", \"Saída:\", d[i],\"\\n\")\n",
        "      print(\"Feed Foward:\")\n",
        "      print(\"W anterior \",W)\n",
        "      m = np.multiply(X[i],W)\n",
        "      u = np.sum(m)-limiar\n",
        "      print(\"u \",u)\n",
        "      y = Signal(u)\n",
        "      print(\"Sinal\", y,\"\\n\")\n",
        "      erro = d[i] - y\n",
        "      print(\"Back propagation:\")\n",
        "      for j in range(len(W)):\n",
        "         W[j] = W[j] + L_rate*X[i][j]*(d[i] - y)   \n",
        "      print(\"Novo W \", W)\n",
        "      limiar = limiar +L_rate*(-1)*erro\n",
        "      m = np.multiply(X[i],W)\n",
        "      u = np.sum(m)-limiar\n",
        "      print(\"Novo u \", u)\n",
        "      Signal(u)\n",
        "      print(\"---------------------\")\n",
        "\n",
        "\n",
        "\n",
        "Perceptron(X,W,limiar,L_rate,d)\n",
        "\n",
        "    \n",
        "     \n",
        "  \n",
        "  "
      ],
      "execution_count": 78,
      "outputs": [
        {
          "output_type": "stream",
          "text": [
            "Treino 0 \n",
            " input: [1, 1, 1] \n",
            " Saída: -1 \n",
            "\n",
            "Feed Foward:\n",
            "W anterior  [0.4, -0.6, 0.6]\n",
            "u  -0.09999999999999998\n",
            "Sinal -1 \n",
            "\n",
            "Back propagation:\n",
            "Novo W  [0.4, -0.6, 0.6]\n",
            "Novo u  -0.09999999999999998\n",
            "---------------------\n",
            "Treino 1 \n",
            " input: [2, 2, 2] \n",
            " Saída: 1 \n",
            "\n",
            "Feed Foward:\n",
            "W anterior  [0.4, -0.6, 0.6]\n",
            "u  0.30000000000000004\n",
            "Sinal 1 \n",
            "\n",
            "Back propagation:\n",
            "Novo W  [0.4, -0.6, 0.6]\n",
            "Novo u  0.30000000000000004\n",
            "---------------------\n",
            "Treino 0 \n",
            " input: [1, 1, 1] \n",
            " Saída: -1 \n",
            "\n",
            "Feed Foward:\n",
            "W anterior  [0.4, -0.6, 0.6]\n",
            "u  -0.09999999999999998\n",
            "Sinal -1 \n",
            "\n",
            "Back propagation:\n",
            "Novo W  [0.4, -0.6, 0.6]\n",
            "Novo u  -0.09999999999999998\n",
            "---------------------\n",
            "Treino 1 \n",
            " input: [2, 2, 2] \n",
            " Saída: 1 \n",
            "\n",
            "Feed Foward:\n",
            "W anterior  [0.4, -0.6, 0.6]\n",
            "u  0.30000000000000004\n",
            "Sinal 1 \n",
            "\n",
            "Back propagation:\n",
            "Novo W  [0.4, -0.6, 0.6]\n",
            "Novo u  0.30000000000000004\n",
            "---------------------\n",
            "Treino 0 \n",
            " input: [1, 1, 1] \n",
            " Saída: -1 \n",
            "\n",
            "Feed Foward:\n",
            "W anterior  [0.4, -0.6, 0.6]\n",
            "u  -0.09999999999999998\n",
            "Sinal -1 \n",
            "\n",
            "Back propagation:\n",
            "Novo W  [0.4, -0.6, 0.6]\n",
            "Novo u  -0.09999999999999998\n",
            "---------------------\n",
            "Treino 1 \n",
            " input: [2, 2, 2] \n",
            " Saída: 1 \n",
            "\n",
            "Feed Foward:\n",
            "W anterior  [0.4, -0.6, 0.6]\n",
            "u  0.30000000000000004\n",
            "Sinal 1 \n",
            "\n",
            "Back propagation:\n",
            "Novo W  [0.4, -0.6, 0.6]\n",
            "Novo u  0.30000000000000004\n",
            "---------------------\n",
            "Treino 0 \n",
            " input: [1, 1, 1] \n",
            " Saída: -1 \n",
            "\n",
            "Feed Foward:\n",
            "W anterior  [0.4, -0.6, 0.6]\n",
            "u  -0.09999999999999998\n",
            "Sinal -1 \n",
            "\n",
            "Back propagation:\n",
            "Novo W  [0.4, -0.6, 0.6]\n",
            "Novo u  -0.09999999999999998\n",
            "---------------------\n",
            "Treino 1 \n",
            " input: [2, 2, 2] \n",
            " Saída: 1 \n",
            "\n",
            "Feed Foward:\n",
            "W anterior  [0.4, -0.6, 0.6]\n",
            "u  0.30000000000000004\n",
            "Sinal 1 \n",
            "\n",
            "Back propagation:\n",
            "Novo W  [0.4, -0.6, 0.6]\n",
            "Novo u  0.30000000000000004\n",
            "---------------------\n"
          ],
          "name": "stdout"
        }
      ]
    },
    {
      "metadata": {
        "id": "K4FSlQ1TWNPP",
        "colab_type": "code",
        "colab": {
          "base_uri": "https://localhost:8080/",
          "height": 153
        },
        "outputId": "1cba17d2-4597-4945-828b-da02d8744431"
      },
      "cell_type": "code",
      "source": [
        "X = [ [0,0,1],[1,1,0] ]\n",
        "W = [0.4,-0.6,0.6]\n",
        "d = [-1,1]\n",
        "limiar = 0.5\n",
        "\n",
        "#Let the training begin\n",
        "for i in range(len(X)): \n",
        "  print(\"i:\", i,\"d:\", d[i] )\n",
        "  m = np.multiply(X[i],W)\n",
        "  u = np.sum(m) - limiar\n",
        "  #print(u)\n",
        "  \n",
        "  if u>= 0:\n",
        "    y = 1\n",
        "  else:\n",
        "    y = -1\n",
        "    \n",
        "  for j in range(len(W)):\n",
        "    W[j] = W[j] + 0.4*x[i][j]*(d[i] - y)\n",
        "    \n",
        "  erro = d[i] - y\n",
        "  limiar = limiar +0.4*(-1)*erro\n",
        "  print(\"W:\", W)\n",
        "  print(\"Erro p/ i = \", i, \":\", erro)\n",
        "  print(\"u:\",u)\n",
        "  \n"
      ],
      "execution_count": 3,
      "outputs": [
        {
          "output_type": "stream",
          "text": [
            "i: 0 d: -1\n",
            "W: [0.4, -0.6, -0.20000000000000007]\n",
            "Erro p/ i =  0 : -2\n",
            "u: 0.09999999999999998\n",
            "i: 1 d: 1\n",
            "W: [1.2000000000000002, 0.20000000000000007, -0.20000000000000007]\n",
            "Erro p/ i =  1 : 2\n",
            "u: -1.5\n"
          ],
          "name": "stdout"
        }
      ]
    },
    {
      "metadata": {
        "id": "J5cguoJNUPO5",
        "colab_type": "code",
        "colab": {
          "base_uri": "https://localhost:8080/",
          "height": 181
        },
        "outputId": "c6660c7c-69c1-46ee-e479-ab7cb39217d2"
      },
      "cell_type": "code",
      "source": [
        "print(\"Calling with single value\")\n",
        "varLenArgFunc(55)\n",
        "print(\"Calling with multiple values\")\n",
        "varLenArgFunc(50,60,70,80)"
      ],
      "execution_count": 23,
      "outputs": [
        {
          "output_type": "stream",
          "text": [
            "Calling with single value\n",
            "The Output is: \n",
            "varval\n",
            "Calling with multiple values\n",
            "The Output is: \n",
            "varval\n",
            "varval\n",
            "varval\n",
            "varval\n"
          ],
          "name": "stdout"
        }
      ]
    }
  ]
}
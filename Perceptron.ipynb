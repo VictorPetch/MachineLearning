{
  "nbformat": 4,
  "nbformat_minor": 0,
  "metadata": {
    "colab": {
      "name": "Perceptron.ipynb",
      "version": "0.3.2",
      "provenance": [],
      "collapsed_sections": [],
      "include_colab_link": true
    },
    "kernelspec": {
      "name": "python3",
      "display_name": "Python 3"
    }
  },
  "cells": [
    {
      "cell_type": "markdown",
      "metadata": {
        "id": "view-in-github",
        "colab_type": "text"
      },
      "source": [
        "[View in Colaboratory](https://colab.research.google.com/github/VictorPetch/MachineLearning/blob/master/Perceptron.ipynb)"
      ]
    },
    {
      "metadata": {
        "id": "cH225itbKleD",
        "colab_type": "code",
        "colab": {
          "base_uri": "https://localhost:8080/",
          "height": 34
        },
        "outputId": "4bb7dc81-7fd9-4b01-9913-53b7247b4a40"
      },
      "cell_type": "code",
      "source": [
        "import numpy as np\n",
        "\n",
        "x1 = [0,0,1] \n",
        "\n",
        "w = [0.4, -0.6, 0.6]\n",
        "\n",
        "m = np.multiply(x1,w) \n",
        "\n",
        "u = np.sum(m) -0.5 \n",
        "\n",
        "print(u)\n"
      ],
      "execution_count": 0,
      "outputs": [
        {
          "output_type": "stream",
          "text": [
            "0.09999999999999998\n"
          ],
          "name": "stdout"
        }
      ]
    },
    {
      "metadata": {
        "id": "6UcdPZWZae1Z",
        "colab_type": "text"
      },
      "cell_type": "markdown",
      "source": [
        "Teste  Tipler Hibbeler"
      ]
    },
    {
      "metadata": {
        "id": "y52JXMCVai0Q",
        "colab_type": "code",
        "colab": {
          "base_uri": "https://localhost:8080/",
          "height": 119
        },
        "outputId": "7689ecf6-9085-4c90-cc6d-8546595f8301"
      },
      "cell_type": "code",
      "source": [
        "import numpy as np\n",
        "\n",
        "#x =np.matrix('0 0 1; 1 1 0')\n",
        "x = [[0,0,1],[1,1,0]]\n",
        "d = [-1,1]\n",
        "\n",
        "#print(len(x))\n",
        "w = [0.4, -0.6, 0.6]\n",
        "\n",
        "teta = 0.5\n",
        "\n",
        "#Start Training\n",
        "\n",
        "for i in range(len(x)):\n",
        "  print(\"i:\", i,d[i])\n",
        "  m = np.multiply(x[i],w)\n",
        "  u = np.sum(m) - 1*teta\n",
        "  #print(u)\n",
        "\n",
        "  if u >= 0:\n",
        "    y = 1\n",
        "  else:\n",
        "    y = -1\n",
        "  for j in range(len(w)):\n",
        "    w[j] = w[j] + 0.4*x[i][j]*(d[i] - y)\n",
        "  \n",
        "  e = d[i] - y\n",
        "  teta = teta + 0.4*(-1)*e  \n",
        "\n",
        "  print(w,teta,e)\n",
        "  print(\"u:\",u)"
      ],
      "execution_count": 24,
      "outputs": [
        {
          "output_type": "stream",
          "text": [
            "i: 0 -1\n",
            "[0.4, -0.6, -0.20000000000000007] 1.3 -2\n",
            "u: 0.09999999999999998\n",
            "i: 1 1\n",
            "[1.2000000000000002, 0.20000000000000007, -0.20000000000000007] 0.5 2\n",
            "u: -1.5\n"
          ],
          "name": "stdout"
        }
      ]
    },
    {
      "metadata": {
        "id": "h55natZqWKN_",
        "colab_type": "code",
        "colab": {
          "base_uri": "https://localhost:8080/",
          "height": 34
        },
        "outputId": "7c3b7904-2d94-4ad1-c0ee-8724c4b7d5f7"
      },
      "cell_type": "code",
      "source": [
        ""
      ],
      "execution_count": 5,
      "outputs": [
        {
          "output_type": "stream",
          "text": [
            "3\n"
          ],
          "name": "stdout"
        }
      ]
    },
    {
      "metadata": {
        "id": "K4FSlQ1TWNPP",
        "colab_type": "code",
        "colab": {
          "base_uri": "https://localhost:8080/",
          "height": 153
        },
        "outputId": "b7aa0e30-4800-4052-e8cc-bc9bf7d23258"
      },
      "cell_type": "code",
      "source": [
        "X = [ [0,0,1],[1,1,0] ]\n",
        "W = [0.4,-0.6,0.6]\n",
        "d = [-1,1]\n",
        "limiar = 0.5\n",
        "\n",
        "#Let the training begin\n",
        "for i in range(len(X)): \n",
        "  print(\"i:\", i,\"d:\", d[i] )\n",
        "  m = np.multiply(X[i],W)\n",
        "  u = np.sum(m) - limiar\n",
        "  #print(u)\n",
        "  \n",
        "  if u>= 0:\n",
        "    y = 1\n",
        "  else:\n",
        "    y = -1\n",
        "    \n",
        "  for j in range(len(W)):\n",
        "    W[j] = W[j] + 0.4*x[i][j]*(d[i] - y)\n",
        "    \n",
        "  erro = d[i] - y\n",
        "  limiar = limiar +0.4*(-1)*erro\n",
        "  print(\"W:\", W)\n",
        "  print(\"Erro p/ i = \", i, \":\", erro)\n",
        "  print(\"u:\",u)\n",
        "  \n"
      ],
      "execution_count": 26,
      "outputs": [
        {
          "output_type": "stream",
          "text": [
            "i: 0 d: -1\n",
            "W: [0.4, -0.6, -0.20000000000000007]\n",
            "Erro p/ i =  0 : -2\n",
            "u: 0.09999999999999998\n",
            "i: 1 d: 1\n",
            "W: [1.2000000000000002, 0.20000000000000007, -0.20000000000000007]\n",
            "Erro p/ i =  1 : 2\n",
            "u: -1.5\n"
          ],
          "name": "stdout"
        }
      ]
    },
    {
      "metadata": {
        "id": "J5cguoJNUPO5",
        "colab_type": "code",
        "colab": {}
      },
      "cell_type": "code",
      "source": [
        ""
      ],
      "execution_count": 0,
      "outputs": []
    }
  ]
}
{
  "nbformat": 4,
  "nbformat_minor": 0,
  "metadata": {
    "colab": {
      "name": "Svm_Rbf_Multiclass.ipynb",
      "version": "0.3.2",
      "provenance": [],
      "collapsed_sections": [],
      "include_colab_link": true
    },
    "kernelspec": {
      "name": "python3",
      "display_name": "Python 3"
    }
  },
  "cells": [
    {
      "cell_type": "markdown",
      "metadata": {
        "id": "view-in-github",
        "colab_type": "text"
      },
      "source": [
        "[View in Colaboratory](https://colab.research.google.com/github/VictorPetch/MachineLearning/blob/master/Svm_Rbf_Multiclass.ipynb)"
      ]
    },
    {
      "metadata": {
        "id": "vXnYcy6XnBCu",
        "colab_type": "code",
        "colab": {}
      },
      "cell_type": "code",
      "source": [
        "# Support Vector Machine (SVM)\n",
        "# from https://www.superdatascience.com/machine-learning/ \n",
        "\n",
        "\n",
        "# Part 1 - Data Preprocessing\n",
        "\n",
        "# Importing the libraries\n",
        "import numpy as np\n",
        "import matplotlib.pyplot as plt\n",
        "import pandas as pd\n",
        "from sklearn import svm,metrics\n",
        "\n"
      ],
      "execution_count": 0,
      "outputs": []
    },
    {
      "metadata": {
        "id": "7bXJKKaAnPIE",
        "colab_type": "code",
        "colab": {
          "base_uri": "https://localhost:8080/",
          "height": 34
        },
        "outputId": "f47d37d5-4674-4c13-b9e9-265218d66cb1"
      },
      "cell_type": "code",
      "source": [
        "import os\n",
        "import tarfile\n",
        "from six.moves import urllib\n",
        "\n",
        "FILE_TO_DOWNLOAD =  \"dados.csv\"\n",
        "DOWNLOAD_ROOT = \"https://raw.githubusercontent.com/VictorPetch/MachineLearning/master/\"\n",
        "DATA_PATH = \"dados/\"\n",
        "DATA_URL = DOWNLOAD_ROOT + DATA_PATH + FILE_TO_DOWNLOAD\n",
        "\n",
        "def fetch_data(data_url=DATA_URL, data_path=DATA_PATH, file_to_download=FILE_TO_DOWNLOAD):\n",
        "  if not os.path.isdir(data_path):\n",
        "    os.makedirs(data_path)\n",
        "  urllib.request.urlretrieve(data_url, data_path+file_to_download)\n",
        "  \n",
        "  \n",
        "fetch_data()\n",
        "\n",
        "# observando se o diretório datasets foi criado com sucesso \n",
        "!ls dados\n",
        "#!cat dados/dados.csv"
      ],
      "execution_count": 2,
      "outputs": [
        {
          "output_type": "stream",
          "text": [
            "dados.csv\r\n"
          ],
          "name": "stdout"
        }
      ]
    },
    {
      "metadata": {
        "id": "_HE3vh8Hn7uS",
        "colab_type": "code",
        "colab": {
          "base_uri": "https://localhost:8080/",
          "height": 204
        },
        "outputId": "3e9ee1d9-15a9-4c5f-9b67-0590d08b64a7"
      },
      "cell_type": "code",
      "source": [
        "# Importing the dataset\n",
        "dataset = pd.read_csv(DATA_PATH+FILE_TO_DOWNLOAD)\n",
        "\n",
        "\n",
        "dataset.head(  )\n",
        "#dataset.describe()\n",
        "#dataset.tails()"
      ],
      "execution_count": 3,
      "outputs": [
        {
          "output_type": "execute_result",
          "data": {
            "text/html": [
              "<div>\n",
              "<style scoped>\n",
              "    .dataframe tbody tr th:only-of-type {\n",
              "        vertical-align: middle;\n",
              "    }\n",
              "\n",
              "    .dataframe tbody tr th {\n",
              "        vertical-align: top;\n",
              "    }\n",
              "\n",
              "    .dataframe thead th {\n",
              "        text-align: right;\n",
              "    }\n",
              "</style>\n",
              "<table border=\"1\" class=\"dataframe\">\n",
              "  <thead>\n",
              "    <tr style=\"text-align: right;\">\n",
              "      <th></th>\n",
              "      <th>a20</th>\n",
              "      <th>a40</th>\n",
              "      <th>a60</th>\n",
              "      <th>a80</th>\n",
              "      <th>a100</th>\n",
              "      <th>a120</th>\n",
              "      <th>a140</th>\n",
              "      <th>a160</th>\n",
              "      <th>coman2o</th>\n",
              "    </tr>\n",
              "  </thead>\n",
              "  <tbody>\n",
              "    <tr>\n",
              "      <th>0</th>\n",
              "      <td>51</td>\n",
              "      <td>51</td>\n",
              "      <td>51</td>\n",
              "      <td>26</td>\n",
              "      <td>51</td>\n",
              "      <td>26</td>\n",
              "      <td>18</td>\n",
              "      <td>51</td>\n",
              "      <td>2</td>\n",
              "    </tr>\n",
              "    <tr>\n",
              "      <th>1</th>\n",
              "      <td>51</td>\n",
              "      <td>51</td>\n",
              "      <td>51</td>\n",
              "      <td>51</td>\n",
              "      <td>51</td>\n",
              "      <td>14</td>\n",
              "      <td>16</td>\n",
              "      <td>51</td>\n",
              "      <td>2</td>\n",
              "    </tr>\n",
              "    <tr>\n",
              "      <th>2</th>\n",
              "      <td>51</td>\n",
              "      <td>51</td>\n",
              "      <td>35</td>\n",
              "      <td>51</td>\n",
              "      <td>51</td>\n",
              "      <td>51</td>\n",
              "      <td>21</td>\n",
              "      <td>51</td>\n",
              "      <td>2</td>\n",
              "    </tr>\n",
              "    <tr>\n",
              "      <th>3</th>\n",
              "      <td>51</td>\n",
              "      <td>51</td>\n",
              "      <td>51</td>\n",
              "      <td>51</td>\n",
              "      <td>51</td>\n",
              "      <td>51</td>\n",
              "      <td>23</td>\n",
              "      <td>51</td>\n",
              "      <td>2</td>\n",
              "    </tr>\n",
              "    <tr>\n",
              "      <th>4</th>\n",
              "      <td>51</td>\n",
              "      <td>51</td>\n",
              "      <td>51</td>\n",
              "      <td>51</td>\n",
              "      <td>51</td>\n",
              "      <td>24</td>\n",
              "      <td>21</td>\n",
              "      <td>37</td>\n",
              "      <td>2</td>\n",
              "    </tr>\n",
              "  </tbody>\n",
              "</table>\n",
              "</div>"
            ],
            "text/plain": [
              "   a20  a40  a60  a80  a100  a120  a140  a160  coman2o\n",
              "0   51   51   51   26    51    26    18    51        2\n",
              "1   51   51   51   51    51    14    16    51        2\n",
              "2   51   51   35   51    51    51    21    51        2\n",
              "3   51   51   51   51    51    51    23    51        2\n",
              "4   51   51   51   51    51    24    21    37        2"
            ]
          },
          "metadata": {
            "tags": []
          },
          "execution_count": 3
        }
      ]
    },
    {
      "metadata": {
        "id": "pcGHzY4b5Loq",
        "colab_type": "text"
      },
      "cell_type": "markdown",
      "source": [
        "Shuffle e alocando os dados"
      ]
    },
    {
      "metadata": {
        "id": "BttMH4I8oLj3",
        "colab_type": "code",
        "colab": {
          "base_uri": "https://localhost:8080/",
          "height": 85
        },
        "outputId": "e14d2b6b-f13a-4b7d-d7f3-d7ec071784e3"
      },
      "cell_type": "code",
      "source": [
        "# Misturando os dados \n",
        "\n",
        "from sklearn.utils import shuffle\n",
        "\n",
        "\n",
        "\n",
        "# Separando os dados para as variáveis independentes e para variável dependete \n",
        "\n",
        "X = shuffle(dataset.iloc[:,:].values) \n",
        "y = shuffle(dataset.iloc[:, 8].values) \n",
        "print(y[:])\n",
        "#X = X[:,[0,1,2]]  escolhendo colunas específicas de X\n",
        "\n",
        "#Dividindo entre arquivos de treinamento e teste \n",
        "#Split the data into training/testing sets\n",
        "#X_train = X[:-25]\n",
        "#X_test = X[-25:]\n",
        "#Split the targets into training/testing sets\n",
        "#y_train = y[:-25]\n",
        "#y_test = y[-25:]\n",
        "\n",
        "#X = dataset.iloc[30:60,5:7].values\n",
        "#y = dataset.iloc[30:60,8].values\n",
        "#print(y[:])\n"
      ],
      "execution_count": 4,
      "outputs": [
        {
          "output_type": "stream",
          "text": [
            "[1 0 1 2 1 2 0 2 1 2 1 1 1 2 1 0 0 2 1 0 2 1 2 2 0 2 2 1 1 0 1 1 0 0 0 1 2\n",
            " 1 2 2 2 1 0 1 1 0 2 2 0 1 2 2 1 0 1 0 1 1 1 0 1 2 2 1 2 1 2 1 1 2 0 1 1 0\n",
            " 1 1 1 0 1 2 0 1 2 2 1 2 1 2 2 0 0 0 0 2 0 2 2 2 0 2 1 2 2 0 1 2 1 2 2 1 1\n",
            " 1 1 0 2 2 0 1 0 2 0 1 1 0 1 1 2 1 2 2 0 1 0 0 2]\n"
          ],
          "name": "stdout"
        }
      ]
    },
    {
      "metadata": {
        "id": "HRXZlPmDodVj",
        "colab_type": "code",
        "colab": {}
      },
      "cell_type": "code",
      "source": [
        "# Splitting the dataset into the Training set and Test set\n",
        "from sklearn.model_selection import train_test_split\n",
        "X_train, X_test, y_train, y_test = train_test_split(X, y, test_size = 0.05, random_state = 2)"
      ],
      "execution_count": 0,
      "outputs": []
    },
    {
      "metadata": {
        "id": "W230nzcgomuX",
        "colab_type": "code",
        "colab": {
          "base_uri": "https://localhost:8080/",
          "height": 51
        },
        "outputId": "99c35cba-7433-4d96-b792-d477619518a6"
      },
      "cell_type": "code",
      "source": [
        "# Feature Scaling\n",
        "from sklearn.preprocessing import StandardScaler\n",
        "sc = StandardScaler()\n",
        "X_train = sc.fit_transform(X_train)\n",
        "X_test = sc.transform(X_test)"
      ],
      "execution_count": 6,
      "outputs": [
        {
          "output_type": "stream",
          "text": [
            "/usr/local/lib/python3.6/dist-packages/sklearn/utils/validation.py:475: DataConversionWarning: Data with input dtype int64 was converted to float64 by StandardScaler.\n",
            "  warnings.warn(msg, DataConversionWarning)\n"
          ],
          "name": "stderr"
        }
      ]
    },
    {
      "metadata": {
        "id": "XkqnV-WRo4IH",
        "colab_type": "code",
        "colab": {}
      },
      "cell_type": "code",
      "source": [
        "# Fitting SVM to the Training set\n",
        "from sklearn.svm import SVC\n",
        "from sklearn.pipeline import Pipeline\n",
        "from sklearn.metrics import mean_squared_error\n",
        "\n",
        "#classifier = SVC(kernel = 'linear', random_state = 0)\n",
        "#Descrevendo o range de C e gamma\n",
        "C_range = np.logspace(-2, 10, 13)\n",
        "gamma_range = np.logspace(-9, 3, 13)\n",
        "classifiers = []\n",
        "for C in C_range:\n",
        "  for gamma in gamma_range:\n",
        "    classifier = svm.SVC(decision_function_shape='ovo',C=C, gamma=gamma)\n",
        "    \"\"\"\"Pipeline((\n",
        "    (\"scaler\", StandardScaler()),\n",
        "    (\"svm_clf\", SVC(decision_function_shape='ovo'))\n",
        "    ))\"\"\"\"\"\n",
        "    classifier.fit(X_train, y_train)\n",
        "\n",
        "    # Predicting the Test set results\n",
        "\n",
        "    y_pred = classifier.predict(X_test)\n",
        "    classifiers.append((C,gamma,mean_squared_error(y_pred,y_test)))\n",
        "    \n",
        "    \n",
        "\n",
        "\n",
        "    \n"
      ],
      "execution_count": 0,
      "outputs": []
    },
    {
      "metadata": {
        "id": "dqRFOXolp_Pn",
        "colab_type": "code",
        "colab": {
          "base_uri": "https://localhost:8080/",
          "height": 88
        },
        "outputId": "29b92049-4ec5-4a98-f783-e8506fe4e28c"
      },
      "cell_type": "code",
      "source": [
        "#print(len(classifiers))\n",
        "classifiers.sort(key=lambda x:x[2], reverse=False)\n",
        "print(classifiers)\n",
        "print(y_test[:])\n",
        "print(y_pred[:])\n",
        "\n",
        "\n"
      ],
      "execution_count": 8,
      "outputs": [
        {
          "output_type": "stream",
          "text": [
            "[(1000000000.0, 1e-08, 0.42857142857142855), (10000000000.0, 1e-08, 0.42857142857142855), (0.01, 1e-09, 0.5714285714285714), (0.01, 1e-08, 0.5714285714285714), (0.01, 1e-07, 0.5714285714285714), (0.01, 1e-06, 0.5714285714285714), (0.01, 1e-05, 0.5714285714285714), (0.01, 0.0001, 0.5714285714285714), (0.01, 0.001, 0.5714285714285714), (0.01, 0.01, 0.5714285714285714), (0.01, 0.1, 0.5714285714285714), (0.01, 1.0, 0.5714285714285714), (0.01, 10.0, 0.5714285714285714), (0.01, 100.0, 0.5714285714285714), (0.01, 1000.0, 0.5714285714285714), (0.1, 1e-09, 0.5714285714285714), (0.1, 1e-08, 0.5714285714285714), (0.1, 1e-07, 0.5714285714285714), (0.1, 1e-06, 0.5714285714285714), (0.1, 1e-05, 0.5714285714285714), (0.1, 0.0001, 0.5714285714285714), (0.1, 0.001, 0.5714285714285714), (0.1, 0.01, 0.5714285714285714), (0.1, 0.1, 0.5714285714285714), (0.1, 1.0, 0.5714285714285714), (0.1, 10.0, 0.5714285714285714), (0.1, 100.0, 0.5714285714285714), (0.1, 1000.0, 0.5714285714285714), (1.0, 1e-09, 0.5714285714285714), (1.0, 1e-08, 0.5714285714285714), (1.0, 1e-07, 0.5714285714285714), (1.0, 1e-06, 0.5714285714285714), (1.0, 1e-05, 0.5714285714285714), (1.0, 0.0001, 0.5714285714285714), (1.0, 0.001, 0.5714285714285714), (1.0, 0.01, 0.5714285714285714), (10.0, 1e-09, 0.5714285714285714), (10.0, 1e-08, 0.5714285714285714), (10.0, 1e-07, 0.5714285714285714), (10.0, 1e-06, 0.5714285714285714), (10.0, 1e-05, 0.5714285714285714), (10.0, 0.0001, 0.5714285714285714), (10.0, 0.001, 0.5714285714285714), (100.0, 1e-09, 0.5714285714285714), (100.0, 1e-08, 0.5714285714285714), (100.0, 1e-07, 0.5714285714285714), (100.0, 1e-06, 0.5714285714285714), (100.0, 1e-05, 0.5714285714285714), (100.0, 0.0001, 0.5714285714285714), (100.0, 0.001, 0.5714285714285714), (1000.0, 1e-09, 0.5714285714285714), (1000.0, 1e-08, 0.5714285714285714), (1000.0, 1e-07, 0.5714285714285714), (1000.0, 1e-06, 0.5714285714285714), (1000.0, 1e-05, 0.5714285714285714), (10000.0, 1e-09, 0.5714285714285714), (10000.0, 1e-08, 0.5714285714285714), (10000.0, 1e-07, 0.5714285714285714), (10000.0, 1e-06, 0.5714285714285714), (100000.0, 1e-09, 0.5714285714285714), (100000.0, 1e-08, 0.5714285714285714), (100000.0, 1e-07, 0.5714285714285714), (100000.0, 1e-06, 0.5714285714285714), (1000000.0, 1e-09, 0.5714285714285714), (1000000.0, 1e-08, 0.5714285714285714), (10000000.0, 1e-09, 0.5714285714285714), (10000000.0, 1e-08, 0.5714285714285714), (100000000.0, 1e-08, 0.5714285714285714), (1000000000.0, 1e-05, 0.5714285714285714), (10000000000.0, 1e-05, 0.5714285714285714), (1.0, 0.1, 0.7142857142857143), (1.0, 1.0, 0.7142857142857143), (1.0, 10.0, 0.7142857142857143), (10.0, 0.01, 0.7142857142857143), (10.0, 1.0, 0.7142857142857143), (100.0, 0.1, 0.7142857142857143), (1000.0, 0.0001, 0.7142857142857143), (1000.0, 0.1, 0.7142857142857143), (10000.0, 1e-05, 0.7142857142857143), (1000000.0, 1e-07, 0.7142857142857143), (1000000.0, 0.0001, 0.7142857142857143), (10000000.0, 1e-06, 0.7142857142857143), (10000000.0, 1e-05, 0.7142857142857143), (100000000.0, 1e-07, 0.7142857142857143), (100000000.0, 1e-05, 0.7142857142857143), (1000.0, 0.001, 0.8571428571428571), (10000.0, 0.0001, 0.8571428571428571), (100000.0, 1e-05, 0.8571428571428571), (100000.0, 0.0001, 0.8571428571428571), (1000000.0, 1e-06, 0.8571428571428571), (1000000.0, 1e-05, 0.8571428571428571), (100000000.0, 1e-06, 0.8571428571428571), (1000000000.0, 1e-07, 0.8571428571428571), (1000000000.0, 1e-06, 0.8571428571428571), (10000000000.0, 1e-07, 0.8571428571428571), (10000000000.0, 1e-06, 0.8571428571428571), (1.0, 100.0, 1.0), (1.0, 1000.0, 1.0), (10.0, 100.0, 1.0), (10.0, 1000.0, 1.0), (100.0, 100.0, 1.0), (100.0, 1000.0, 1.0), (1000.0, 100.0, 1.0), (1000.0, 1000.0, 1.0), (10000.0, 100.0, 1.0), (10000.0, 1000.0, 1.0), (100000.0, 0.1, 1.0), (100000.0, 100.0, 1.0), (100000.0, 1000.0, 1.0), (1000000.0, 0.1, 1.0), (1000000.0, 100.0, 1.0), (1000000.0, 1000.0, 1.0), (10000000.0, 100.0, 1.0), (10000000.0, 1000.0, 1.0), (100000000.0, 100.0, 1.0), (100000000.0, 1000.0, 1.0), (1000000000.0, 100.0, 1.0), (1000000000.0, 1000.0, 1.0), (10000000000.0, 100.0, 1.0), (10000000000.0, 1000.0, 1.0), (10.0, 0.1, 1.1428571428571428), (100.0, 0.01, 1.1428571428571428), (100.0, 10.0, 1.1428571428571428), (1000.0, 0.01, 1.1428571428571428), (1000.0, 10.0, 1.1428571428571428), (10000.0, 0.001, 1.1428571428571428), (10000.0, 0.01, 1.1428571428571428), (10000.0, 10.0, 1.1428571428571428), (100000.0, 0.001, 1.1428571428571428), (100000.0, 10.0, 1.1428571428571428), (1000000.0, 0.001, 1.1428571428571428), (1000000.0, 10.0, 1.1428571428571428), (10000000.0, 10.0, 1.1428571428571428), (100000000.0, 0.1, 1.1428571428571428), (100000000.0, 10.0, 1.1428571428571428), (1000000000.0, 0.001, 1.1428571428571428), (1000000000.0, 0.1, 1.1428571428571428), (1000000000.0, 10.0, 1.1428571428571428), (10000000000.0, 0.001, 1.1428571428571428), (10000000000.0, 0.1, 1.1428571428571428), (10000000000.0, 10.0, 1.1428571428571428), (10.0, 10.0, 1.2857142857142858), (100000000.0, 1e-09, 1.2857142857142858), (1000000000.0, 1e-09, 1.2857142857142858), (1000000000.0, 0.01, 1.2857142857142858), (10000000000.0, 1e-09, 1.2857142857142858), (10000000000.0, 0.01, 1.2857142857142858), (10000.0, 0.1, 1.4285714285714286), (100.0, 1.0, 1.5714285714285714), (1000.0, 1.0, 1.5714285714285714), (10000.0, 1.0, 1.5714285714285714), (100000.0, 0.01, 1.5714285714285714), (100000.0, 1.0, 1.5714285714285714), (1000000.0, 0.01, 1.5714285714285714), (1000000.0, 1.0, 1.5714285714285714), (10000000.0, 0.0001, 1.5714285714285714), (10000000.0, 0.001, 1.5714285714285714), (10000000.0, 0.01, 1.5714285714285714), (10000000.0, 0.1, 1.5714285714285714), (10000000.0, 1.0, 1.5714285714285714), (100000000.0, 0.001, 1.5714285714285714), (100000000.0, 1.0, 1.5714285714285714), (1000000000.0, 1.0, 1.5714285714285714), (10000000000.0, 1.0, 1.5714285714285714), (10000000.0, 1e-07, 1.7142857142857142), (100000000.0, 0.0001, 2.142857142857143), (100000000.0, 0.01, 2.142857142857143), (1000000000.0, 0.0001, 2.5714285714285716), (10000000000.0, 0.0001, 2.5714285714285716)]\n",
            "[0 1 1 2 2 2 1]\n",
            "[1 1 1 1 0 1 1]\n"
          ],
          "name": "stdout"
        }
      ]
    },
    {
      "metadata": {
        "id": "i92mEJ9_qx4u",
        "colab_type": "code",
        "colab": {
          "base_uri": "https://localhost:8080/",
          "height": 68
        },
        "outputId": "329b005a-867e-453e-a104-a0036eab4eca"
      },
      "cell_type": "code",
      "source": [
        "# Making the Confusion Matrix\n",
        "from sklearn.metrics import confusion_matrix\n",
        "cm = confusion_matrix(y_test, y_pred)\n",
        "\n",
        "print(cm)"
      ],
      "execution_count": 9,
      "outputs": [
        {
          "output_type": "stream",
          "text": [
            "[[0 1 0]\n",
            " [0 3 0]\n",
            " [1 2 0]]\n"
          ],
          "name": "stdout"
        }
      ]
    },
    {
      "metadata": {
        "id": "rTI5N_WGrHuT",
        "colab_type": "code",
        "colab": {
          "base_uri": "https://localhost:8080/",
          "height": 588
        },
        "outputId": "c321e72c-dfa8-450a-95ca-929972630fe7"
      },
      "cell_type": "code",
      "source": [
        "# Visualising the Training set results\n",
        "from matplotlib.colors import ListedColormap\n",
        "X_set, y_set = X_train, y_train\n",
        "X1, X2 = np.meshgrid(np.arange(start = X_set[:, 0].min() - 1, stop = X_set[:, 0].max() + 1, step = 0.01),\n",
        "                     np.arange(start = X_set[:, 1].min() - 1, stop = X_set[:, 1].max() + 1, step = 0.01))\n",
        "#print(classifier.predict(np.array([X1.ravel(), X2.ravel()]).T))\n",
        "\n",
        "plt.contourf(X1, X2, classifier.predict(np.array([X1.ravel(), X2.ravel()]).T).reshape(X1.shape),\n",
        "             alpha = 0.75, cmap = ListedColormap(('blue', 'green', 'magenta')))\n",
        "\n",
        "plt.xlim(X1.min(), X1.max())\n",
        "plt.ylim(X2.min(), X2.max())\n",
        "for i, j in enumerate(np.unique(y_set)):\n",
        "    plt.scatter(X_set[y_set == j, 0], X_set[y_set == j, 1],\n",
        "                c = ListedColormap(('blue', 'green', 'magenta'))(i), label = j)\n",
        "plt.title('SVM (Training set)')\n",
        "plt.xlabel('Age')\n",
        "plt.ylabel('Estimated Salary')\n",
        "plt.legend()\n",
        "plt.show()"
      ],
      "execution_count": 10,
      "outputs": [
        {
          "output_type": "error",
          "ename": "ValueError",
          "evalue": "ignored",
          "traceback": [
            "\u001b[0;31m---------------------------------------------------------------------------\u001b[0m",
            "\u001b[0;31mValueError\u001b[0m                                Traceback (most recent call last)",
            "\u001b[0;32m<ipython-input-10-928ac4232a9a>\u001b[0m in \u001b[0;36m<module>\u001b[0;34m()\u001b[0m\n\u001b[1;32m      5\u001b[0m \u001b[0;31m#print(classifier.predict(np.array([X1.ravel(), X2.ravel()]).T))\u001b[0m\u001b[0;34m\u001b[0m\u001b[0;34m\u001b[0m\u001b[0m\n\u001b[1;32m      6\u001b[0m \u001b[0;34m\u001b[0m\u001b[0m\n\u001b[0;32m----> 7\u001b[0;31m plt.contourf(X1, X2, classifier.predict(np.array([X1.ravel(), X2.ravel()]).T).reshape(X1.shape),\n\u001b[0m\u001b[1;32m      8\u001b[0m              alpha = 0.75, cmap = ListedColormap(('blue', 'green', 'magenta')))\n\u001b[1;32m      9\u001b[0m \u001b[0;34m\u001b[0m\u001b[0m\n",
            "\u001b[0;32m/usr/local/lib/python3.6/dist-packages/sklearn/svm/base.py\u001b[0m in \u001b[0;36mpredict\u001b[0;34m(self, X)\u001b[0m\n\u001b[1;32m    546\u001b[0m             \u001b[0mClass\u001b[0m \u001b[0mlabels\u001b[0m \u001b[0;32mfor\u001b[0m \u001b[0msamples\u001b[0m \u001b[0;32min\u001b[0m \u001b[0mX\u001b[0m\u001b[0;34m.\u001b[0m\u001b[0;34m\u001b[0m\u001b[0m\n\u001b[1;32m    547\u001b[0m         \"\"\"\n\u001b[0;32m--> 548\u001b[0;31m         \u001b[0my\u001b[0m \u001b[0;34m=\u001b[0m \u001b[0msuper\u001b[0m\u001b[0;34m(\u001b[0m\u001b[0mBaseSVC\u001b[0m\u001b[0;34m,\u001b[0m \u001b[0mself\u001b[0m\u001b[0;34m)\u001b[0m\u001b[0;34m.\u001b[0m\u001b[0mpredict\u001b[0m\u001b[0;34m(\u001b[0m\u001b[0mX\u001b[0m\u001b[0;34m)\u001b[0m\u001b[0;34m\u001b[0m\u001b[0m\n\u001b[0m\u001b[1;32m    549\u001b[0m         \u001b[0;32mreturn\u001b[0m \u001b[0mself\u001b[0m\u001b[0;34m.\u001b[0m\u001b[0mclasses_\u001b[0m\u001b[0;34m.\u001b[0m\u001b[0mtake\u001b[0m\u001b[0;34m(\u001b[0m\u001b[0mnp\u001b[0m\u001b[0;34m.\u001b[0m\u001b[0masarray\u001b[0m\u001b[0;34m(\u001b[0m\u001b[0my\u001b[0m\u001b[0;34m,\u001b[0m \u001b[0mdtype\u001b[0m\u001b[0;34m=\u001b[0m\u001b[0mnp\u001b[0m\u001b[0;34m.\u001b[0m\u001b[0mintp\u001b[0m\u001b[0;34m)\u001b[0m\u001b[0;34m)\u001b[0m\u001b[0;34m\u001b[0m\u001b[0m\n\u001b[1;32m    550\u001b[0m \u001b[0;34m\u001b[0m\u001b[0m\n",
            "\u001b[0;32m/usr/local/lib/python3.6/dist-packages/sklearn/svm/base.py\u001b[0m in \u001b[0;36mpredict\u001b[0;34m(self, X)\u001b[0m\n\u001b[1;32m    306\u001b[0m         \u001b[0my_pred\u001b[0m \u001b[0;34m:\u001b[0m \u001b[0marray\u001b[0m\u001b[0;34m,\u001b[0m \u001b[0mshape\u001b[0m \u001b[0;34m(\u001b[0m\u001b[0mn_samples\u001b[0m\u001b[0;34m,\u001b[0m\u001b[0;34m)\u001b[0m\u001b[0;34m\u001b[0m\u001b[0m\n\u001b[1;32m    307\u001b[0m         \"\"\"\n\u001b[0;32m--> 308\u001b[0;31m         \u001b[0mX\u001b[0m \u001b[0;34m=\u001b[0m \u001b[0mself\u001b[0m\u001b[0;34m.\u001b[0m\u001b[0m_validate_for_predict\u001b[0m\u001b[0;34m(\u001b[0m\u001b[0mX\u001b[0m\u001b[0;34m)\u001b[0m\u001b[0;34m\u001b[0m\u001b[0m\n\u001b[0m\u001b[1;32m    309\u001b[0m         \u001b[0mpredict\u001b[0m \u001b[0;34m=\u001b[0m \u001b[0mself\u001b[0m\u001b[0;34m.\u001b[0m\u001b[0m_sparse_predict\u001b[0m \u001b[0;32mif\u001b[0m \u001b[0mself\u001b[0m\u001b[0;34m.\u001b[0m\u001b[0m_sparse\u001b[0m \u001b[0;32melse\u001b[0m \u001b[0mself\u001b[0m\u001b[0;34m.\u001b[0m\u001b[0m_dense_predict\u001b[0m\u001b[0;34m\u001b[0m\u001b[0m\n\u001b[1;32m    310\u001b[0m         \u001b[0;32mreturn\u001b[0m \u001b[0mpredict\u001b[0m\u001b[0;34m(\u001b[0m\u001b[0mX\u001b[0m\u001b[0;34m)\u001b[0m\u001b[0;34m\u001b[0m\u001b[0m\n",
            "\u001b[0;32m/usr/local/lib/python3.6/dist-packages/sklearn/svm/base.py\u001b[0m in \u001b[0;36m_validate_for_predict\u001b[0;34m(self, X)\u001b[0m\n\u001b[1;32m    457\u001b[0m             raise ValueError(\"X.shape[1] = %d should be equal to %d, \"\n\u001b[1;32m    458\u001b[0m                              \u001b[0;34m\"the number of features at training time\"\u001b[0m \u001b[0;34m%\u001b[0m\u001b[0;34m\u001b[0m\u001b[0m\n\u001b[0;32m--> 459\u001b[0;31m                              (n_features, self.shape_fit_[1]))\n\u001b[0m\u001b[1;32m    460\u001b[0m         \u001b[0;32mreturn\u001b[0m \u001b[0mX\u001b[0m\u001b[0;34m\u001b[0m\u001b[0m\n\u001b[1;32m    461\u001b[0m \u001b[0;34m\u001b[0m\u001b[0m\n",
            "\u001b[0;31mValueError\u001b[0m: X.shape[1] = 2 should be equal to 9, the number of features at training time"
          ]
        }
      ]
    },
    {
      "metadata": {
        "id": "XFX0OirY2jGH",
        "colab_type": "code",
        "colab": {
          "base_uri": "https://localhost:8080/",
          "height": 102
        },
        "outputId": "76c6d7ed-5c6d-4a85-ccde-88d940d9e5c9"
      },
      "cell_type": "code",
      "source": [
        "import numpy as np\n",
        "a = np.array([[1,2,3], [2,3,4]])\n",
        "print(a) \n",
        "a = np.vstack([a, [7,8,9]])\n",
        "print(a)\n",
        "\n"
      ],
      "execution_count": 236,
      "outputs": [
        {
          "output_type": "stream",
          "text": [
            "[[1 2 3]\n",
            " [2 3 4]]\n",
            "[[1 2 3]\n",
            " [2 3 4]\n",
            " [7 8 9]]\n"
          ],
          "name": "stdout"
        }
      ]
    }
  ]
}
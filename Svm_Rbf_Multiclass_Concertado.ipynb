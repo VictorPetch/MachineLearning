{
  "nbformat": 4,
  "nbformat_minor": 0,
  "metadata": {
    "colab": {
      "name": "Svm_Rbf_Multiclass_Concertado.ipynb",
      "version": "0.3.2",
      "provenance": [],
      "collapsed_sections": [],
      "include_colab_link": true
    },
    "kernelspec": {
      "name": "python3",
      "display_name": "Python 3"
    }
  },
  "cells": [
    {
      "cell_type": "markdown",
      "metadata": {
        "id": "view-in-github",
        "colab_type": "text"
      },
      "source": [
        "[View in Colaboratory](https://colab.research.google.com/github/VictorPetch/MachineLearning/blob/master/Svm_Rbf_Multiclass_Concertado.ipynb)"
      ]
    },
    {
      "metadata": {
        "id": "vXnYcy6XnBCu",
        "colab_type": "code",
        "colab": {}
      },
      "cell_type": "code",
      "source": [
        " # Support Vector Machine (SVM)\n",
        "# from https://www.superdatascience.com/machine-learning/ \n",
        "\n",
        "\n",
        "# Part 1 - Data Preprocessing\n",
        "\n",
        "# Importing the libraries\n",
        "import numpy as np\n",
        "import matplotlib.pyplot as plt\n",
        "import pandas as pd\n",
        "from sklearn import svm,metrics\n",
        "\n",
        "\n"
      ],
      "execution_count": 0,
      "outputs": []
    },
    {
      "metadata": {
        "id": "7bXJKKaAnPIE",
        "colab_type": "code",
        "colab": {
          "base_uri": "https://localhost:8080/",
          "height": 2329
        },
        "outputId": "f7be21cb-964a-4711-e4fc-31eca91e2555"
      },
      "cell_type": "code",
      "source": [
        "import os\n",
        "import tarfile\n",
        "from six.moves import urllib\n",
        "\n",
        "FILE_TO_DOWNLOAD =  \"data.csv\"\n",
        "DOWNLOAD_ROOT = \"https://raw.githubusercontent.com/willcribeiro/Autonomous-Robot/master/\"\n",
        "DATA_PATH = \"Dados/\"\n",
        "DATA_URL = DOWNLOAD_ROOT + DATA_PATH + FILE_TO_DOWNLOAD\n",
        "\n",
        "def fetch_data(data_url=DATA_URL, data_path=DATA_PATH, file_to_download=FILE_TO_DOWNLOAD):\n",
        "  if not os.path.isdir(data_path):\n",
        "    os.makedirs(data_path)\n",
        "  urllib.request.urlretrieve(data_url, data_path+file_to_download)\n",
        "  \n",
        "  \n",
        "fetch_data()\n",
        "\n",
        "# observando se o diretório datasets foi criado com sucesso \n",
        "#!ls dados\n",
        "!cat dados/dados.csv"
      ],
      "execution_count": 76,
      "outputs": [
        {
          "output_type": "stream",
          "text": [
            "a20,a40,a60,a80,a100,a120,a140,a160,coman2o\n",
            "51,51,51,26,51,26,18,51,2\n",
            "51,51,51,51,51,14,16,51,2\n",
            "51,51,35,51,51,51,21,51,2\n",
            "51,51,51,51,51,51,23,51,2\n",
            "51,51,51,51,51,24,21,37,2\n",
            "51,51,51,51,51,23,23,51,2\n",
            "51,51,51,51,51,23,24,51,2\n",
            "51,51,51,51,51,27,51,51,2\n",
            "51,51,51,51,51,30,51,51,2\n",
            "51,51,51,51,51,31,30,51,2\n",
            "51,51,51,51,51,51,28,51,2\n",
            "51,51,51,51,51,51,28,28,2\n",
            "51,51,51,51,51,51,26,51,2\n",
            "51,51,51,51,51,31,35,51,2\n",
            "51,51,51,51,30,36,35,51,2\n",
            "51,51,51,33,51,37,36,51,2\n",
            "51,51,32,51,51,40,39,51,2\n",
            "51,51,51,51,51,51,33,51,2\n",
            "51,51,51,51,51,28,51,51,2\n",
            "51,51,51,51,29,51,51,51,2\n",
            "51,51,51,51,51,51,39,36,2\n",
            "51,51,51,29,51,51,39,38,2\n",
            "51,51,29,51,51,51,39,40,2\n",
            "51,27,51,51,51,51,39,51,2\n",
            "51,51,51,51,51,51,34,40,2\n",
            "51,51,51,51,51,27,51,51,2\n",
            "51,51,51,28,51,51,51,51,2\n",
            "51,51,26,51,51,51,37,51,2\n",
            "51,36,51,51,51,51,38,35,2\n",
            "51,51,51,51,51,39,26,51,2\n",
            "51,51,51,51,51,28,38,51,2\n",
            "51,51,51,51,38,51,51,51,2\n",
            "51,51,51,51,51,51,51,51,2\n",
            "51,51,51,51,51,51,51,51,2\n",
            "51,51,51,51,51,34,51,51,2\n",
            "51,51,51,51,28,51,51,51,2\n",
            "51,51,51,27,51,51,51,51,2\n",
            "51,51,22,51,51,51,51,51,2\n",
            "51,51,51,51,51,51,31,51,2\n",
            "51,51,51,51,51,26,51,51,2\n",
            "51,51,51,51,27,51,51,51,2\n",
            "51,51,51,25,51,51,51,51,2\n",
            "51,51,26,51,51,51,51,51,2\n",
            "51,27,51,51,51,51,51,51,2\n",
            "51,51,51,51,51,51,25,51,2\n",
            "51,51,51,51,51,25,51,51,2\n",
            "51,51,51,51,26,51,51,51,2\n",
            "23,21,51,51,51,51,51,51,0\n",
            "16,16,51,51,51,51,51,51,0\n",
            "19,20,21,51,51,51,51,51,0\n",
            "18,17,16,51,51,51,51,51,0\n",
            "51,16,51,51,51,51,51,51,0\n",
            "51,51,21,51,51,51,51,51,0\n",
            "51,51,26,28,51,51,27,51,0\n",
            "51,51,32,34,51,26,51,51,0\n",
            "51,36,34,51,31,51,51,51,0\n",
            "51,51,36,29,51,51,51,51,0\n",
            "51,51,24,51,51,51,51,51,0\n",
            "51,27,51,51,51,51,51,51,0\n",
            "26,51,51,51,51,51,51,51,0\n",
            "51,51,51,27,51,51,51,51,0\n",
            "51,51,26,51,51,51,51,51,0\n",
            "51,25,51,51,51,51,51,51,0\n",
            "51,51,51,26,51,51,51,51,0\n",
            "51,51,51,28,51,51,51,51,0\n",
            "51,51,24,51,51,51,51,51,0\n",
            "51,25,51,51,51,51,51,51,0\n",
            "51,39,37,25,51,51,51,51,0\n",
            "51,51,26,51,51,51,51,51,0\n",
            "51,25,51,51,51,51,51,51,0\n",
            "34,51,39,51,51,51,37,51,0\n",
            "51,51,51,26,51,51,51,51,0\n",
            "51,51,24,51,51,51,51,51,0\n",
            "51,31,51,51,51,51,51,39,0\n",
            "51,51,21,51,51,51,51,51,0\n",
            "51,26,51,51,51,51,51,51,0\n",
            "34,51,51,51,51,51,34,51,0\n",
            "36,35,24,51,51,51,51,51,0\n",
            "29,27,31,51,51,51,51,51,0\n",
            "28,28,27,51,51,51,51,34,0\n",
            "51,27,24,51,51,51,51,51,0\n",
            "51,51,51,51,51,31,51,51,0\n",
            "51,51,51,51,51,51,51,51,1\n",
            "51,51,51,51,51,51,51,51,1\n",
            "51,51,51,51,51,51,51,51,1\n",
            "51,51,51,14,12,12,51,51,1\n",
            "51,51,51,10,10,13,22,51,1\n",
            "51,51,51,12,12,16,39,51,1\n",
            "51,51,51,15,13,16,51,51,1\n",
            "51,51,51,18,16,18,51,51,1\n",
            "51,51,51,20,18,20,34,51,1\n",
            "51,51,51,51,20,51,51,51,1\n",
            "51,51,51,51,20,51,51,51,1\n",
            "51,51,51,21,20,22,51,51,1\n",
            "51,51,51,20,20,23,51,51,1\n",
            "51,51,51,22,21,23,51,51,1\n",
            "51,51,51,51,24,25,51,51,1\n",
            "51,51,51,51,25,51,51,51,1\n",
            "51,51,51,51,27,51,51,33,1\n",
            "51,51,51,51,27,30,40,51,1\n",
            "51,51,51,51,27,36,51,51,1\n",
            "51,51,51,51,27,31,51,51,1\n",
            "51,51,51,29,30,51,51,51,1\n",
            "51,51,34,51,30,51,51,51,1\n",
            "51,35,51,51,30,51,51,51,1\n",
            "51,51,51,51,31,51,51,51,1\n",
            "51,51,51,51,31,34,51,51,1\n",
            "51,51,51,32,31,36,51,51,1\n",
            "51,51,51,33,33,36,51,51,1\n",
            "51,51,51,51,36,51,51,51,1\n",
            "51,33,51,51,37,51,51,51,1\n",
            "51,51,51,51,40,33,51,51,1\n",
            "51,51,51,39,28,37,51,51,1\n",
            "51,51,51,28,38,38,51,51,1\n",
            "51,51,28,51,37,38,51,51,1\n",
            "51,27,51,40,39,40,51,51,1\n",
            "29,51,51,40,38,51,51,51,1\n",
            "51,51,51,39,39,33,51,51,1\n",
            "51,51,51,51,28,51,51,51,1\n",
            "51,51,51,28,51,51,51,51,1\n",
            "51,51,51,51,27,51,51,51,1\n",
            "51,51,51,23,51,51,51,51,1\n",
            "51,51,26,51,51,51,51,51,1\n",
            "51,26,51,51,51,51,51,51,1\n",
            "33,51,51,51,51,51,34,51,1\n",
            "51,51,51,51,51,27,51,51,1\n",
            "51,51,51,51,27,51,51,51,1\n",
            "51,51,51,27,39,51,51,51,1\n",
            "51,51,24,51,51,51,51,51,1\n",
            "51,51,51,51,51,51,27,51,1\n",
            "51,51,51,51,51,26,51,51,1\n",
            "51,51,51,51,28,51,51,51,1\n",
            "51,51,51,26,51,51,51,51,1\n",
            "51,51,51,51,51,51,51,51,1\n",
            "51,51,51,51,51,51,51,51,1\n"
          ],
          "name": "stdout"
        }
      ]
    },
    {
      "metadata": {
        "id": "_HE3vh8Hn7uS",
        "colab_type": "code",
        "colab": {
          "base_uri": "https://localhost:8080/",
          "height": 34
        },
        "outputId": "b6c433cd-cf7e-4527-f4fe-056970306f86"
      },
      "cell_type": "code",
      "source": [
        "# Importing the dataset\n",
        "dataset = pd.read_csv(DATA_PATH+FILE_TO_DOWNLOAD)\n",
        "\n",
        "\n",
        "dataset.head(  )\n",
        "#dataset.describe()\n",
        "#dataset.tails()\n",
        "print(len(dataset.columns))"
      ],
      "execution_count": 77,
      "outputs": [
        {
          "output_type": "stream",
          "text": [
            "8\n"
          ],
          "name": "stdout"
        }
      ]
    },
    {
      "metadata": {
        "id": "BttMH4I8oLj3",
        "colab_type": "code",
        "colab": {}
      },
      "cell_type": "code",
      "source": [
        "# Alocando os dados \n",
        "# Separando os dados para as variáveis independentes e para variável dependete \n",
        "\n",
        "X = dataset.iloc[:,:len(dataset.columns)-1].values\n",
        "y = dataset.iloc[:, len(dataset.columns)-1].values\n",
        "\n",
        "\n",
        "\n"
      ],
      "execution_count": 0,
      "outputs": []
    },
    {
      "metadata": {
        "id": "HRXZlPmDodVj",
        "colab_type": "code",
        "colab": {}
      },
      "cell_type": "code",
      "source": [
        "from sklearn.model_selection import train_test_split\n",
        "\n",
        "# Splitting the dataset into the Training set and Test set\n",
        "X_train, X_test, y_train, y_test = train_test_split(X, y, test_size = 0.25, random_state = 0)\n",
        "\n",
        "\n"
      ],
      "execution_count": 0,
      "outputs": []
    },
    {
      "metadata": {
        "id": "W230nzcgomuX",
        "colab_type": "code",
        "colab": {}
      },
      "cell_type": "code",
      "source": [
        "# Feature Scaling\n",
        "from sklearn.preprocessing import StandardScaler\n",
        "sc = StandardScaler()\n",
        "X_train = sc.fit_transform(X_train)\n",
        "X_test = sc.transform(X_test)\n"
      ],
      "execution_count": 0,
      "outputs": []
    },
    {
      "metadata": {
        "id": "XkqnV-WRo4IH",
        "colab_type": "code",
        "colab": {}
      },
      "cell_type": "code",
      "source": [
        "# Fitting SVM to the Training set\n",
        "from sklearn.svm import SVC\n",
        "from sklearn.pipeline import Pipeline\n",
        "from sklearn.metrics import mean_squared_error\n",
        "from sklearn.metrics import confusion_matrix\n",
        "\n",
        "#classifier = SVC(kernel = 'linear', random_state = 0)\n",
        "#Descrevendo o range de C e gamma\n",
        "C_range = np.logspace(-2, 10, 13)\n",
        "gamma_range = np.logspace(-9, 3, 13)\n",
        "\n",
        "Erros=[]\n",
        "for C in C_range:\n",
        "  for gamma in gamma_range:\n",
        "    classifier = svm.SVC(C = C,gamma=gamma)\n",
        "    classifier.fit(X_train, y_train)\n",
        "\n",
        "    # Predicting the Test set results\n",
        "    y_pred = classifier.predict(X_test)\n",
        "    \n",
        "    # Making the Confusion Matrix\n",
        "    cm = confusion_matrix(y_test, y_pred)\n",
        "    #print(cm)\n",
        "    Matrix_error = cm.item(1)+cm.item(2)+cm.item(3)+cm.item(5)+cm.item(6)+cm.item(7)\n",
        "    Erros.append((C,gamma,Matrix_error))\n",
        "    \n",
        "    \n"
      ],
      "execution_count": 0,
      "outputs": []
    },
    {
      "metadata": {
        "id": "dqRFOXolp_Pn",
        "colab_type": "code",
        "colab": {
          "base_uri": "https://localhost:8080/",
          "height": 139
        },
        "outputId": "2ad60652-9b08-4992-ad79-84e138be78b1"
      },
      "cell_type": "code",
      "source": [
        "#Sort dos dados\n",
        "#print(len(classifiers))\n",
        "Erros.sort(key=lambda x:x[2], reverse=False)\n",
        "#y_pred eh o ultimo y_pred calculado\n",
        "\n",
        "#print(\"y_pred:     \",y_pred[:])\n",
        "#print(\"y_test:     \",y_test[:])\n",
        "#print(\"y_train:    \", y_train[:])\n",
        " \n",
        "#Treinamento com melhor C e gamma\n",
        "\n",
        "classifier = svm.SVC(C=Erros[0][0],gamma=Erros[0][1])\n",
        "classifier.fit(X_train, y_train)\n",
        "y_pred = classifier.predict(X_test)\n",
        "#print(\"best_y_pred:\",y_pred[:])\n",
        "print(\"melhor C:\",Erros[0][0])\n",
        "print(\"melhor gamma:\",Erros[0][1])\n",
        "#print(\"mean_squared_error:\", mean_squared_error(y_pred,y_test) )\n",
        "cm = confusion_matrix(y_test, y_pred)\n",
        "print(cm)\n",
        "print(Erros)\n",
        "\n",
        "\n"
      ],
      "execution_count": 82,
      "outputs": [
        {
          "output_type": "stream",
          "text": [
            "melhor C: 1000.0\n",
            "melhor gamma: 0.1\n",
            "[[29  1  1]\n",
            " [ 3 22  3]\n",
            " [ 1  2 18]]\n",
            "[(1000.0, 0.1, 11), (1.0, 0.1, 14), (10.0, 0.01, 14), (10.0, 1.0, 14), (100.0, 1.0, 14), (10000.0, 0.01, 14), (10000.0, 0.1, 14), (100000.0, 0.001, 14), (100000.0, 0.01, 14), (1000.0, 1.0, 15), (10000000.0, 0.001, 15), (100000000.0, 0.01, 15), (1000.0, 0.001, 16), (10000.0, 0.001, 16), (1000000.0, 0.0001, 16), (10000000.0, 0.0001, 16), (10000000.0, 0.01, 16), (1000000000.0, 0.01, 16), (10000000000.0, 1e-08, 16), (10000000000.0, 1e-06, 16), (10000000000.0, 0.01, 16), (1.0, 1.0, 17), (10.0, 0.1, 17), (100.0, 0.001, 17), (100.0, 0.01, 17), (10000.0, 0.0001, 17), (100000.0, 1e-05, 17), (100000.0, 0.1, 17), (1000000.0, 1e-07, 17), (1000000.0, 1e-06, 17), (1000000.0, 1e-05, 17), (1000000.0, 0.001, 17), (1000000.0, 0.01, 17), (10000000.0, 1e-07, 17), (10000000.0, 1e-06, 17), (100000000.0, 1e-07, 17), (100000000.0, 1e-06, 17), (1000000000.0, 1e-07, 17), (1000000000.0, 1e-06, 17), (1000000000.0, 0.0001, 17), (10000000000.0, 0.0001, 17), (100.0, 0.1, 18), (1000.0, 0.01, 18), (100000.0, 1e-06, 18), (100000.0, 0.0001, 18), (10000000.0, 1e-08, 18), (10000000.0, 0.1, 18), (1000.0, 0.0001, 19), (10000.0, 1e-05, 19), (1000000.0, 0.1, 19), (100000000.0, 1e-05, 19), (10000000000.0, 1e-07, 19), (10000000000.0, 1e-05, 19), (0.1, 0.1, 20), (1.0, 0.01, 20), (10.0, 0.001, 20), (100.0, 0.0001, 20), (1000.0, 1e-05, 20), (10000.0, 1e-06, 20), (10000.0, 1.0, 20), (100000.0, 1e-07, 20), (1000000.0, 1e-08, 20), (10000000.0, 1e-05, 20), (100000000.0, 1e-08, 20), (100000000.0, 0.0001, 20), (1000000000.0, 1e-05, 20), (1000000000.0, 0.1, 20), (10000000000.0, 0.1, 20), (100000.0, 1.0, 21), (100000000.0, 0.001, 21), (100000000.0, 0.1, 21), (1000000000.0, 1e-08, 21), (1000000000.0, 0.001, 21), (10000000000.0, 0.001, 21), (1000000.0, 1.0, 22), (1.0, 10.0, 25), (10000000.0, 1.0, 26), (10.0, 10.0, 27), (100000000.0, 1.0, 27), (1000000000.0, 1.0, 27), (10000000000.0, 1.0, 27), (100000000.0, 1e-09, 28), (1000000000.0, 1e-09, 28), (10000000000.0, 1e-09, 28), (0.1, 1.0, 29), (100.0, 10.0, 29), (1000.0, 10.0, 29), (10000000.0, 1e-09, 30), (10000.0, 10.0, 33), (100000.0, 10.0, 35), (1000000.0, 10.0, 35), (10000000.0, 10.0, 35), (100000000.0, 10.0, 35), (1000000000.0, 10.0, 35), (10000000000.0, 10.0, 35), (1.0, 0.001, 39), (10.0, 0.0001, 39), (100.0, 1e-05, 39), (1000.0, 1e-06, 39), (10000.0, 1e-07, 39), (100000.0, 1e-08, 39), (1000000.0, 1e-09, 40), (0.1, 0.01, 42), (10.0, 100.0, 44), (100.0, 100.0, 44), (1000.0, 100.0, 44), (10000.0, 100.0, 44), (100000.0, 100.0, 44), (1000000.0, 100.0, 44), (10000000.0, 100.0, 44), (100000000.0, 100.0, 44), (1000000000.0, 100.0, 44), (10000000000.0, 100.0, 44), (1.0, 100.0, 45), (1.0, 1000.0, 48), (10.0, 1000.0, 48), (100.0, 1000.0, 48), (1000.0, 1000.0, 48), (10000.0, 1000.0, 48), (100000.0, 1000.0, 48), (1000000.0, 1000.0, 48), (10000000.0, 1000.0, 48), (100000000.0, 1000.0, 48), (1000000000.0, 1000.0, 48), (10000000000.0, 1000.0, 48), (0.01, 1e-09, 49), (0.01, 1e-08, 49), (0.01, 1e-07, 49), (0.01, 1e-06, 49), (0.01, 1e-05, 49), (0.01, 0.0001, 49), (0.01, 0.001, 49), (0.01, 0.01, 49), (0.01, 0.1, 49), (0.01, 1.0, 49), (0.01, 10.0, 49), (0.01, 100.0, 49), (0.01, 1000.0, 49), (0.1, 1e-09, 49), (0.1, 1e-08, 49), (0.1, 1e-07, 49), (0.1, 1e-06, 49), (0.1, 1e-05, 49), (0.1, 0.0001, 49), (0.1, 0.001, 49), (0.1, 10.0, 49), (0.1, 100.0, 49), (0.1, 1000.0, 49), (1.0, 1e-09, 49), (1.0, 1e-08, 49), (1.0, 1e-07, 49), (1.0, 1e-06, 49), (1.0, 1e-05, 49), (1.0, 0.0001, 49), (10.0, 1e-09, 49), (10.0, 1e-08, 49), (10.0, 1e-07, 49), (10.0, 1e-06, 49), (10.0, 1e-05, 49), (100.0, 1e-09, 49), (100.0, 1e-08, 49), (100.0, 1e-07, 49), (100.0, 1e-06, 49), (1000.0, 1e-09, 49), (1000.0, 1e-08, 49), (1000.0, 1e-07, 49), (10000.0, 1e-09, 49), (10000.0, 1e-08, 49), (100000.0, 1e-09, 49)]\n"
          ],
          "name": "stdout"
        }
      ]
    },
    {
      "metadata": {
        "id": "i92mEJ9_qx4u",
        "colab_type": "code",
        "colab": {}
      },
      "cell_type": "code",
      "source": [
        ""
      ],
      "execution_count": 0,
      "outputs": []
    },
    {
      "metadata": {
        "id": "rTI5N_WGrHuT",
        "colab_type": "code",
        "colab": {
          "base_uri": "https://localhost:8080/",
          "height": 588
        },
        "outputId": "fd479026-b643-4b40-a289-1ca29eff6229"
      },
      "cell_type": "code",
      "source": [
        "# Visualising the Training set results\n",
        "from matplotlib.colors import ListedColormap\n",
        "X_set, y_set = X_train, y_train\n",
        "X1, X2 = np.meshgrid(np.arange(start = X_set[:, 0].min() - 1, stop = X_set[:, 0].max() + 1, step = 0.01),\n",
        "                     np.arange(start = X_set[:, 1].min() - 1, stop = X_set[:, 1].max() + 1, step = 0.01))\n",
        "#print(classifier.predict(np.array([X1.ravel(), X2.ravel()]).T))\n",
        "\n",
        "plt.contourf(X1, X2, classifier.predict(np.array([X1.ravel(), X2.ravel()]).T).reshape(X1.shape),\n",
        "             alpha = 0.75, cmap = ListedColormap(('blue', 'green', 'magenta')))\n",
        "\n",
        "plt.xlim(X1.min(), X1.max())\n",
        "plt.ylim(X2.min(), X2.max())\n",
        "for i, j in enumerate(np.unique(y_set)):\n",
        "    plt.scatter(X_set[y_set == j, 0], X_set[y_set == j, 1],\n",
        "                c = ListedColormap(('blue', 'green', 'magenta'))(i), label = j)\n",
        "plt.title('SVM (Training set)')\n",
        "plt.xlabel('Age')\n",
        "plt.ylabel('Estimated Salary')\n",
        "plt.legend()\n",
        "plt.show()"
      ],
      "execution_count": 83,
      "outputs": [
        {
          "output_type": "error",
          "ename": "ValueError",
          "evalue": "ignored",
          "traceback": [
            "\u001b[0;31m---------------------------------------------------------------------------\u001b[0m",
            "\u001b[0;31mValueError\u001b[0m                                Traceback (most recent call last)",
            "\u001b[0;32m<ipython-input-83-928ac4232a9a>\u001b[0m in \u001b[0;36m<module>\u001b[0;34m()\u001b[0m\n\u001b[1;32m      5\u001b[0m \u001b[0;31m#print(classifier.predict(np.array([X1.ravel(), X2.ravel()]).T))\u001b[0m\u001b[0;34m\u001b[0m\u001b[0;34m\u001b[0m\u001b[0m\n\u001b[1;32m      6\u001b[0m \u001b[0;34m\u001b[0m\u001b[0m\n\u001b[0;32m----> 7\u001b[0;31m plt.contourf(X1, X2, classifier.predict(np.array([X1.ravel(), X2.ravel()]).T).reshape(X1.shape),\n\u001b[0m\u001b[1;32m      8\u001b[0m              alpha = 0.75, cmap = ListedColormap(('blue', 'green', 'magenta')))\n\u001b[1;32m      9\u001b[0m \u001b[0;34m\u001b[0m\u001b[0m\n",
            "\u001b[0;32m/usr/local/lib/python3.6/dist-packages/sklearn/svm/base.py\u001b[0m in \u001b[0;36mpredict\u001b[0;34m(self, X)\u001b[0m\n\u001b[1;32m    546\u001b[0m             \u001b[0mClass\u001b[0m \u001b[0mlabels\u001b[0m \u001b[0;32mfor\u001b[0m \u001b[0msamples\u001b[0m \u001b[0;32min\u001b[0m \u001b[0mX\u001b[0m\u001b[0;34m.\u001b[0m\u001b[0;34m\u001b[0m\u001b[0m\n\u001b[1;32m    547\u001b[0m         \"\"\"\n\u001b[0;32m--> 548\u001b[0;31m         \u001b[0my\u001b[0m \u001b[0;34m=\u001b[0m \u001b[0msuper\u001b[0m\u001b[0;34m(\u001b[0m\u001b[0mBaseSVC\u001b[0m\u001b[0;34m,\u001b[0m \u001b[0mself\u001b[0m\u001b[0;34m)\u001b[0m\u001b[0;34m.\u001b[0m\u001b[0mpredict\u001b[0m\u001b[0;34m(\u001b[0m\u001b[0mX\u001b[0m\u001b[0;34m)\u001b[0m\u001b[0;34m\u001b[0m\u001b[0m\n\u001b[0m\u001b[1;32m    549\u001b[0m         \u001b[0;32mreturn\u001b[0m \u001b[0mself\u001b[0m\u001b[0;34m.\u001b[0m\u001b[0mclasses_\u001b[0m\u001b[0;34m.\u001b[0m\u001b[0mtake\u001b[0m\u001b[0;34m(\u001b[0m\u001b[0mnp\u001b[0m\u001b[0;34m.\u001b[0m\u001b[0masarray\u001b[0m\u001b[0;34m(\u001b[0m\u001b[0my\u001b[0m\u001b[0;34m,\u001b[0m \u001b[0mdtype\u001b[0m\u001b[0;34m=\u001b[0m\u001b[0mnp\u001b[0m\u001b[0;34m.\u001b[0m\u001b[0mintp\u001b[0m\u001b[0;34m)\u001b[0m\u001b[0;34m)\u001b[0m\u001b[0;34m\u001b[0m\u001b[0m\n\u001b[1;32m    550\u001b[0m \u001b[0;34m\u001b[0m\u001b[0m\n",
            "\u001b[0;32m/usr/local/lib/python3.6/dist-packages/sklearn/svm/base.py\u001b[0m in \u001b[0;36mpredict\u001b[0;34m(self, X)\u001b[0m\n\u001b[1;32m    306\u001b[0m         \u001b[0my_pred\u001b[0m \u001b[0;34m:\u001b[0m \u001b[0marray\u001b[0m\u001b[0;34m,\u001b[0m \u001b[0mshape\u001b[0m \u001b[0;34m(\u001b[0m\u001b[0mn_samples\u001b[0m\u001b[0;34m,\u001b[0m\u001b[0;34m)\u001b[0m\u001b[0;34m\u001b[0m\u001b[0m\n\u001b[1;32m    307\u001b[0m         \"\"\"\n\u001b[0;32m--> 308\u001b[0;31m         \u001b[0mX\u001b[0m \u001b[0;34m=\u001b[0m \u001b[0mself\u001b[0m\u001b[0;34m.\u001b[0m\u001b[0m_validate_for_predict\u001b[0m\u001b[0;34m(\u001b[0m\u001b[0mX\u001b[0m\u001b[0;34m)\u001b[0m\u001b[0;34m\u001b[0m\u001b[0m\n\u001b[0m\u001b[1;32m    309\u001b[0m         \u001b[0mpredict\u001b[0m \u001b[0;34m=\u001b[0m \u001b[0mself\u001b[0m\u001b[0;34m.\u001b[0m\u001b[0m_sparse_predict\u001b[0m \u001b[0;32mif\u001b[0m \u001b[0mself\u001b[0m\u001b[0;34m.\u001b[0m\u001b[0m_sparse\u001b[0m \u001b[0;32melse\u001b[0m \u001b[0mself\u001b[0m\u001b[0;34m.\u001b[0m\u001b[0m_dense_predict\u001b[0m\u001b[0;34m\u001b[0m\u001b[0m\n\u001b[1;32m    310\u001b[0m         \u001b[0;32mreturn\u001b[0m \u001b[0mpredict\u001b[0m\u001b[0;34m(\u001b[0m\u001b[0mX\u001b[0m\u001b[0;34m)\u001b[0m\u001b[0;34m\u001b[0m\u001b[0m\n",
            "\u001b[0;32m/usr/local/lib/python3.6/dist-packages/sklearn/svm/base.py\u001b[0m in \u001b[0;36m_validate_for_predict\u001b[0;34m(self, X)\u001b[0m\n\u001b[1;32m    457\u001b[0m             raise ValueError(\"X.shape[1] = %d should be equal to %d, \"\n\u001b[1;32m    458\u001b[0m                              \u001b[0;34m\"the number of features at training time\"\u001b[0m \u001b[0;34m%\u001b[0m\u001b[0;34m\u001b[0m\u001b[0m\n\u001b[0;32m--> 459\u001b[0;31m                              (n_features, self.shape_fit_[1]))\n\u001b[0m\u001b[1;32m    460\u001b[0m         \u001b[0;32mreturn\u001b[0m \u001b[0mX\u001b[0m\u001b[0;34m\u001b[0m\u001b[0m\n\u001b[1;32m    461\u001b[0m \u001b[0;34m\u001b[0m\u001b[0m\n",
            "\u001b[0;31mValueError\u001b[0m: X.shape[1] = 2 should be equal to 7, the number of features at training time"
          ]
        }
      ]
    },
    {
      "metadata": {
        "id": "XFX0OirY2jGH",
        "colab_type": "code",
        "colab": {
          "base_uri": "https://localhost:8080/",
          "height": 102
        },
        "outputId": "76c6d7ed-5c6d-4a85-ccde-88d940d9e5c9"
      },
      "cell_type": "code",
      "source": [
        "\n"
      ],
      "execution_count": 0,
      "outputs": [
        {
          "output_type": "stream",
          "text": [
            "[[1 2 3]\n",
            " [2 3 4]]\n",
            "[[1 2 3]\n",
            " [2 3 4]\n",
            " [7 8 9]]\n"
          ],
          "name": "stdout"
        }
      ]
    },
    {
      "metadata": {
        "id": "xOThjSK_sBRV",
        "colab_type": "code",
        "colab": {
          "base_uri": "https://localhost:8080/",
          "height": 34
        },
        "outputId": "e23fe28f-6450-4e54-a136-9ce48e81b1f6"
      },
      "cell_type": "code",
      "source": [
        "\n"
      ],
      "execution_count": 0,
      "outputs": [
        {
          "output_type": "execute_result",
          "data": {
            "text/plain": [
              "[[0, 3, 4], [1, 2]]"
            ]
          },
          "metadata": {
            "tags": []
          },
          "execution_count": 34
        }
      ]
    },
    {
      "metadata": {
        "id": "OC8ao1A2aBWb",
        "colab_type": "code",
        "colab": {
          "base_uri": "https://localhost:8080/",
          "height": 85
        },
        "outputId": "ccc96e20-3f52-45cf-ab80-143c754316d5"
      },
      "cell_type": "code",
      "source": [
        "\n"
      ],
      "execution_count": 22,
      "outputs": [
        {
          "output_type": "stream",
          "text": [
            "[[5 6 1]\n",
            " [3 1 6]\n",
            " [8 0 0]]\n",
            "3\n"
          ],
          "name": "stdout"
        }
      ]
    }
  ]
}